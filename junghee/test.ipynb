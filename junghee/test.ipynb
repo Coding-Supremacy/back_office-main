{
 "cells": [
  {
   "cell_type": "code",
   "execution_count": 1,
   "metadata": {},
   "outputs": [],
   "source": [
    "import pandas as pd"
   ]
  },
  {
   "cell_type": "code",
   "execution_count": 11,
   "metadata": {},
   "outputs": [],
   "source": [
    "df = pd.read_csv('main/project_2/data_mini2/현대_공장별_판매실적.csv')"
   ]
  },
  {
   "cell_type": "code",
   "execution_count": 12,
   "metadata": {},
   "outputs": [
    {
     "data": {
      "text/html": [
       "<div>\n",
       "<style scoped>\n",
       "    .dataframe tbody tr th:only-of-type {\n",
       "        vertical-align: middle;\n",
       "    }\n",
       "\n",
       "    .dataframe tbody tr th {\n",
       "        vertical-align: top;\n",
       "    }\n",
       "\n",
       "    .dataframe thead th {\n",
       "        text-align: right;\n",
       "    }\n",
       "</style>\n",
       "<table border=\"1\" class=\"dataframe\">\n",
       "  <thead>\n",
       "    <tr style=\"text-align: right;\">\n",
       "      <th></th>\n",
       "      <th>공장명(국가)</th>\n",
       "      <th>차량 모델</th>\n",
       "      <th>판매 구분</th>\n",
       "      <th>1월</th>\n",
       "      <th>2월</th>\n",
       "      <th>3월</th>\n",
       "      <th>4월</th>\n",
       "      <th>5월</th>\n",
       "      <th>6월</th>\n",
       "      <th>7월</th>\n",
       "      <th>8월</th>\n",
       "      <th>9월</th>\n",
       "      <th>10월</th>\n",
       "      <th>11월</th>\n",
       "      <th>12월</th>\n",
       "      <th>연도</th>\n",
       "    </tr>\n",
       "  </thead>\n",
       "  <tbody>\n",
       "    <tr>\n",
       "      <th>0</th>\n",
       "      <td>HMI</td>\n",
       "      <td>Santro (AH2)</td>\n",
       "      <td>내수용</td>\n",
       "      <td>0</td>\n",
       "      <td>0</td>\n",
       "      <td>0</td>\n",
       "      <td>0</td>\n",
       "      <td>0</td>\n",
       "      <td>0</td>\n",
       "      <td>0</td>\n",
       "      <td>0</td>\n",
       "      <td>0</td>\n",
       "      <td>0</td>\n",
       "      <td>0</td>\n",
       "      <td>0</td>\n",
       "      <td>2023</td>\n",
       "    </tr>\n",
       "    <tr>\n",
       "      <th>1</th>\n",
       "      <td>HMI</td>\n",
       "      <td>Xcent (BA 4DR)</td>\n",
       "      <td>내수용</td>\n",
       "      <td>0</td>\n",
       "      <td>0</td>\n",
       "      <td>0</td>\n",
       "      <td>0</td>\n",
       "      <td>0</td>\n",
       "      <td>0</td>\n",
       "      <td>0</td>\n",
       "      <td>0</td>\n",
       "      <td>0</td>\n",
       "      <td>0</td>\n",
       "      <td>0</td>\n",
       "      <td>0</td>\n",
       "      <td>2023</td>\n",
       "    </tr>\n",
       "    <tr>\n",
       "      <th>2</th>\n",
       "      <td>HMI</td>\n",
       "      <td>Aura (AI3 4DR)</td>\n",
       "      <td>내수용</td>\n",
       "      <td>4634</td>\n",
       "      <td>5524</td>\n",
       "      <td>3774</td>\n",
       "      <td>5085</td>\n",
       "      <td>4707</td>\n",
       "      <td>4907</td>\n",
       "      <td>4514</td>\n",
       "      <td>4892</td>\n",
       "      <td>3900</td>\n",
       "      <td>4096</td>\n",
       "      <td>3850</td>\n",
       "      <td>3812</td>\n",
       "      <td>2023</td>\n",
       "    </tr>\n",
       "    <tr>\n",
       "      <th>3</th>\n",
       "      <td>HMI</td>\n",
       "      <td>NIOS (AI3 5DR)</td>\n",
       "      <td>내수용</td>\n",
       "      <td>8760</td>\n",
       "      <td>9635</td>\n",
       "      <td>9304</td>\n",
       "      <td>6839</td>\n",
       "      <td>6385</td>\n",
       "      <td>6321</td>\n",
       "      <td>5337</td>\n",
       "      <td>7306</td>\n",
       "      <td>5223</td>\n",
       "      <td>6552</td>\n",
       "      <td>4708</td>\n",
       "      <td>5247</td>\n",
       "      <td>2023</td>\n",
       "    </tr>\n",
       "    <tr>\n",
       "      <th>4</th>\n",
       "      <td>HMI</td>\n",
       "      <td>i20 (BI3 5DR)</td>\n",
       "      <td>내수용</td>\n",
       "      <td>8185</td>\n",
       "      <td>9287</td>\n",
       "      <td>6596</td>\n",
       "      <td>6472</td>\n",
       "      <td>6094</td>\n",
       "      <td>6162</td>\n",
       "      <td>5001</td>\n",
       "      <td>4896</td>\n",
       "      <td>6481</td>\n",
       "      <td>7212</td>\n",
       "      <td>5727</td>\n",
       "      <td>4574</td>\n",
       "      <td>2023</td>\n",
       "    </tr>\n",
       "  </tbody>\n",
       "</table>\n",
       "</div>"
      ],
      "text/plain": [
       "  공장명(국가)            차량 모델 판매 구분    1월    2월    3월    4월    5월    6월    7월  \\\n",
       "0     HMI     Santro (AH2)   내수용     0     0     0     0     0     0     0   \n",
       "1     HMI   Xcent (BA 4DR)   내수용     0     0     0     0     0     0     0   \n",
       "2     HMI   Aura (AI3 4DR)   내수용  4634  5524  3774  5085  4707  4907  4514   \n",
       "3     HMI   NIOS (AI3 5DR)   내수용  8760  9635  9304  6839  6385  6321  5337   \n",
       "4     HMI    i20 (BI3 5DR)   내수용  8185  9287  6596  6472  6094  6162  5001   \n",
       "\n",
       "     8월    9월   10월   11월   12월    연도  \n",
       "0     0     0     0     0     0  2023  \n",
       "1     0     0     0     0     0  2023  \n",
       "2  4892  3900  4096  3850  3812  2023  \n",
       "3  7306  5223  6552  4708  5247  2023  \n",
       "4  4896  6481  7212  5727  4574  2023  "
      ]
     },
     "execution_count": 12,
     "metadata": {},
     "output_type": "execute_result"
    }
   ],
   "source": [
    "df.head()"
   ]
  },
  {
   "cell_type": "code",
   "execution_count": 15,
   "metadata": {},
   "outputs": [],
   "source": [
    "df_melted = df.melt(id_vars=['공장명(국가)', '차량 모델', '판매 구분', '연도'],\n",
    "        value_vars=['1월', '2월', '3월', '4월', '5월', '6월', '7월', '8월', '9월', '10월', '11월', '12월'],\n",
    "        var_name='월', value_name='판매량')"
   ]
  },
  {
   "cell_type": "code",
   "execution_count": 17,
   "metadata": {},
   "outputs": [
    {
     "data": {
      "text/html": [
       "<div>\n",
       "<style scoped>\n",
       "    .dataframe tbody tr th:only-of-type {\n",
       "        vertical-align: middle;\n",
       "    }\n",
       "\n",
       "    .dataframe tbody tr th {\n",
       "        vertical-align: top;\n",
       "    }\n",
       "\n",
       "    .dataframe thead th {\n",
       "        text-align: right;\n",
       "    }\n",
       "</style>\n",
       "<table border=\"1\" class=\"dataframe\">\n",
       "  <thead>\n",
       "    <tr style=\"text-align: right;\">\n",
       "      <th></th>\n",
       "      <th>공장명(국가)</th>\n",
       "      <th>차량 모델</th>\n",
       "      <th>판매 구분</th>\n",
       "      <th>연도</th>\n",
       "      <th>월</th>\n",
       "      <th>판매량</th>\n",
       "    </tr>\n",
       "  </thead>\n",
       "  <tbody>\n",
       "    <tr>\n",
       "      <th>0</th>\n",
       "      <td>HMI</td>\n",
       "      <td>Santro (AH2)</td>\n",
       "      <td>내수용</td>\n",
       "      <td>2023</td>\n",
       "      <td>1월</td>\n",
       "      <td>0</td>\n",
       "    </tr>\n",
       "    <tr>\n",
       "      <th>1</th>\n",
       "      <td>HMI</td>\n",
       "      <td>Xcent (BA 4DR)</td>\n",
       "      <td>내수용</td>\n",
       "      <td>2023</td>\n",
       "      <td>1월</td>\n",
       "      <td>0</td>\n",
       "    </tr>\n",
       "    <tr>\n",
       "      <th>2</th>\n",
       "      <td>HMI</td>\n",
       "      <td>Aura (AI3 4DR)</td>\n",
       "      <td>내수용</td>\n",
       "      <td>2023</td>\n",
       "      <td>1월</td>\n",
       "      <td>4634</td>\n",
       "    </tr>\n",
       "    <tr>\n",
       "      <th>3</th>\n",
       "      <td>HMI</td>\n",
       "      <td>NIOS (AI3 5DR)</td>\n",
       "      <td>내수용</td>\n",
       "      <td>2023</td>\n",
       "      <td>1월</td>\n",
       "      <td>8760</td>\n",
       "    </tr>\n",
       "    <tr>\n",
       "      <th>4</th>\n",
       "      <td>HMI</td>\n",
       "      <td>i20 (BI3 5DR)</td>\n",
       "      <td>내수용</td>\n",
       "      <td>2023</td>\n",
       "      <td>1월</td>\n",
       "      <td>8185</td>\n",
       "    </tr>\n",
       "  </tbody>\n",
       "</table>\n",
       "</div>"
      ],
      "text/plain": [
       "  공장명(국가)            차량 모델 판매 구분    연도   월   판매량\n",
       "0     HMI     Santro (AH2)   내수용  2023  1월     0\n",
       "1     HMI   Xcent (BA 4DR)   내수용  2023  1월     0\n",
       "2     HMI   Aura (AI3 4DR)   내수용  2023  1월  4634\n",
       "3     HMI   NIOS (AI3 5DR)   내수용  2023  1월  8760\n",
       "4     HMI    i20 (BI3 5DR)   내수용  2023  1월  8185"
      ]
     },
     "execution_count": 17,
     "metadata": {},
     "output_type": "execute_result"
    }
   ],
   "source": [
    "df_melted.head()"
   ]
  },
  {
   "cell_type": "code",
   "execution_count": 18,
   "metadata": {},
   "outputs": [],
   "source": [
    "월_매핑 = {\n",
    "    \"1월\": 1, \"2월\": 2, \"3월\": 3, \"4월\": 4, \"5월\": 5, \"6월\": 6,\n",
    "    \"7월\": 7, \"8월\": 8, \"9월\": 9, \"10월\": 10, \"11월\": 11, \"12월\": 12\n",
    "}"
   ]
  },
  {
   "cell_type": "code",
   "execution_count": 19,
   "metadata": {},
   "outputs": [],
   "source": [
    "df_melted['월_숫자'] = df_melted['월'].map(월_매핑)"
   ]
  },
  {
   "cell_type": "code",
   "execution_count": 20,
   "metadata": {},
   "outputs": [],
   "source": [
    "df_melted['날짜'] = pd.to_datetime(df_melted['연도'].astype(str) + df_melted['월_숫자'].astype(str), format='%Y%m')"
   ]
  },
  {
   "cell_type": "code",
   "execution_count": 21,
   "metadata": {},
   "outputs": [
    {
     "data": {
      "text/html": [
       "<div>\n",
       "<style scoped>\n",
       "    .dataframe tbody tr th:only-of-type {\n",
       "        vertical-align: middle;\n",
       "    }\n",
       "\n",
       "    .dataframe tbody tr th {\n",
       "        vertical-align: top;\n",
       "    }\n",
       "\n",
       "    .dataframe thead th {\n",
       "        text-align: right;\n",
       "    }\n",
       "</style>\n",
       "<table border=\"1\" class=\"dataframe\">\n",
       "  <thead>\n",
       "    <tr style=\"text-align: right;\">\n",
       "      <th></th>\n",
       "      <th>공장명(국가)</th>\n",
       "      <th>차량 모델</th>\n",
       "      <th>판매 구분</th>\n",
       "      <th>연도</th>\n",
       "      <th>월</th>\n",
       "      <th>판매량</th>\n",
       "      <th>월_숫자</th>\n",
       "      <th>날짜</th>\n",
       "    </tr>\n",
       "  </thead>\n",
       "  <tbody>\n",
       "    <tr>\n",
       "      <th>0</th>\n",
       "      <td>HMI</td>\n",
       "      <td>Santro (AH2)</td>\n",
       "      <td>내수용</td>\n",
       "      <td>2023</td>\n",
       "      <td>1월</td>\n",
       "      <td>0</td>\n",
       "      <td>1</td>\n",
       "      <td>2023-01-01</td>\n",
       "    </tr>\n",
       "    <tr>\n",
       "      <th>1</th>\n",
       "      <td>HMI</td>\n",
       "      <td>Xcent (BA 4DR)</td>\n",
       "      <td>내수용</td>\n",
       "      <td>2023</td>\n",
       "      <td>1월</td>\n",
       "      <td>0</td>\n",
       "      <td>1</td>\n",
       "      <td>2023-01-01</td>\n",
       "    </tr>\n",
       "    <tr>\n",
       "      <th>2</th>\n",
       "      <td>HMI</td>\n",
       "      <td>Aura (AI3 4DR)</td>\n",
       "      <td>내수용</td>\n",
       "      <td>2023</td>\n",
       "      <td>1월</td>\n",
       "      <td>4634</td>\n",
       "      <td>1</td>\n",
       "      <td>2023-01-01</td>\n",
       "    </tr>\n",
       "    <tr>\n",
       "      <th>3</th>\n",
       "      <td>HMI</td>\n",
       "      <td>NIOS (AI3 5DR)</td>\n",
       "      <td>내수용</td>\n",
       "      <td>2023</td>\n",
       "      <td>1월</td>\n",
       "      <td>8760</td>\n",
       "      <td>1</td>\n",
       "      <td>2023-01-01</td>\n",
       "    </tr>\n",
       "    <tr>\n",
       "      <th>4</th>\n",
       "      <td>HMI</td>\n",
       "      <td>i20 (BI3 5DR)</td>\n",
       "      <td>내수용</td>\n",
       "      <td>2023</td>\n",
       "      <td>1월</td>\n",
       "      <td>8185</td>\n",
       "      <td>1</td>\n",
       "      <td>2023-01-01</td>\n",
       "    </tr>\n",
       "    <tr>\n",
       "      <th>...</th>\n",
       "      <td>...</td>\n",
       "      <td>...</td>\n",
       "      <td>...</td>\n",
       "      <td>...</td>\n",
       "      <td>...</td>\n",
       "      <td>...</td>\n",
       "      <td>...</td>\n",
       "      <td>...</td>\n",
       "    </tr>\n",
       "    <tr>\n",
       "      <th>4687</th>\n",
       "      <td>Singapore</td>\n",
       "      <td>IONIQ6 (CE)</td>\n",
       "      <td>내수용</td>\n",
       "      <td>2025</td>\n",
       "      <td>12월</td>\n",
       "      <td>0</td>\n",
       "      <td>12</td>\n",
       "      <td>2025-12-01</td>\n",
       "    </tr>\n",
       "    <tr>\n",
       "      <th>4688</th>\n",
       "      <td>Singapore</td>\n",
       "      <td>IONIQ5 (NE)</td>\n",
       "      <td>수출용</td>\n",
       "      <td>2025</td>\n",
       "      <td>12월</td>\n",
       "      <td>0</td>\n",
       "      <td>12</td>\n",
       "      <td>2025-12-01</td>\n",
       "    </tr>\n",
       "    <tr>\n",
       "      <th>4689</th>\n",
       "      <td>Singapore</td>\n",
       "      <td>IONIQ5 Robotaxi (NE R)</td>\n",
       "      <td>수출용</td>\n",
       "      <td>2025</td>\n",
       "      <td>12월</td>\n",
       "      <td>0</td>\n",
       "      <td>12</td>\n",
       "      <td>2025-12-01</td>\n",
       "    </tr>\n",
       "    <tr>\n",
       "      <th>4690</th>\n",
       "      <td>CKD</td>\n",
       "      <td>PV</td>\n",
       "      <td>합계</td>\n",
       "      <td>2025</td>\n",
       "      <td>12월</td>\n",
       "      <td>0</td>\n",
       "      <td>12</td>\n",
       "      <td>2025-12-01</td>\n",
       "    </tr>\n",
       "    <tr>\n",
       "      <th>4691</th>\n",
       "      <td>CKD</td>\n",
       "      <td>CV</td>\n",
       "      <td>합계</td>\n",
       "      <td>2025</td>\n",
       "      <td>12월</td>\n",
       "      <td>0</td>\n",
       "      <td>12</td>\n",
       "      <td>2025-12-01</td>\n",
       "    </tr>\n",
       "  </tbody>\n",
       "</table>\n",
       "<p>4692 rows × 8 columns</p>\n",
       "</div>"
      ],
      "text/plain": [
       "        공장명(국가)                   차량 모델 판매 구분    연도    월   판매량  월_숫자  \\\n",
       "0           HMI            Santro (AH2)   내수용  2023   1월     0     1   \n",
       "1           HMI          Xcent (BA 4DR)   내수용  2023   1월     0     1   \n",
       "2           HMI          Aura (AI3 4DR)   내수용  2023   1월  4634     1   \n",
       "3           HMI          NIOS (AI3 5DR)   내수용  2023   1월  8760     1   \n",
       "4           HMI           i20 (BI3 5DR)   내수용  2023   1월  8185     1   \n",
       "...         ...                     ...   ...   ...  ...   ...   ...   \n",
       "4687  Singapore             IONIQ6 (CE)   내수용  2025  12월     0    12   \n",
       "4688  Singapore             IONIQ5 (NE)   수출용  2025  12월     0    12   \n",
       "4689  Singapore  IONIQ5 Robotaxi (NE R)   수출용  2025  12월     0    12   \n",
       "4690        CKD                      PV    합계  2025  12월     0    12   \n",
       "4691        CKD                      CV    합계  2025  12월     0    12   \n",
       "\n",
       "             날짜  \n",
       "0    2023-01-01  \n",
       "1    2023-01-01  \n",
       "2    2023-01-01  \n",
       "3    2023-01-01  \n",
       "4    2023-01-01  \n",
       "...         ...  \n",
       "4687 2025-12-01  \n",
       "4688 2025-12-01  \n",
       "4689 2025-12-01  \n",
       "4690 2025-12-01  \n",
       "4691 2025-12-01  \n",
       "\n",
       "[4692 rows x 8 columns]"
      ]
     },
     "execution_count": 21,
     "metadata": {},
     "output_type": "execute_result"
    }
   ],
   "source": [
    "df_melted"
   ]
  },
  {
   "cell_type": "code",
   "execution_count": 10,
   "metadata": {},
   "outputs": [],
   "source": [
    "import matplotlib.pyplot as plt\n",
    "import seaborn as sns"
   ]
  },
  {
   "cell_type": "code",
   "execution_count": 22,
   "metadata": {},
   "outputs": [
    {
     "name": "stderr",
     "output_type": "stream",
     "text": [
      "C:\\Users\\USER\\AppData\\Local\\Temp\\ipykernel_22384\\1160761524.py:9: UserWarning:\n",
      "\n",
      "Glyph 45216 (\\N{HANGUL SYLLABLE NAL}) missing from font(s) DejaVu Sans.\n",
      "\n",
      "C:\\Users\\USER\\AppData\\Local\\Temp\\ipykernel_22384\\1160761524.py:9: UserWarning:\n",
      "\n",
      "Glyph 51676 (\\N{HANGUL SYLLABLE JJA}) missing from font(s) DejaVu Sans.\n",
      "\n",
      "C:\\Users\\USER\\AppData\\Local\\Temp\\ipykernel_22384\\1160761524.py:9: UserWarning:\n",
      "\n",
      "Glyph 54032 (\\N{HANGUL SYLLABLE PAN}) missing from font(s) DejaVu Sans.\n",
      "\n",
      "C:\\Users\\USER\\AppData\\Local\\Temp\\ipykernel_22384\\1160761524.py:9: UserWarning:\n",
      "\n",
      "Glyph 47588 (\\N{HANGUL SYLLABLE MAE}) missing from font(s) DejaVu Sans.\n",
      "\n",
      "C:\\Users\\USER\\AppData\\Local\\Temp\\ipykernel_22384\\1160761524.py:9: UserWarning:\n",
      "\n",
      "Glyph 47049 (\\N{HANGUL SYLLABLE RYANG}) missing from font(s) DejaVu Sans.\n",
      "\n",
      "C:\\Users\\USER\\AppData\\Local\\Temp\\ipykernel_22384\\1160761524.py:9: UserWarning:\n",
      "\n",
      "Glyph 44277 (\\N{HANGUL SYLLABLE GONG}) missing from font(s) DejaVu Sans.\n",
      "\n",
      "C:\\Users\\USER\\AppData\\Local\\Temp\\ipykernel_22384\\1160761524.py:9: UserWarning:\n",
      "\n",
      "Glyph 51109 (\\N{HANGUL SYLLABLE JANG}) missing from font(s) DejaVu Sans.\n",
      "\n",
      "C:\\Users\\USER\\AppData\\Local\\Temp\\ipykernel_22384\\1160761524.py:9: UserWarning:\n",
      "\n",
      "Glyph 48324 (\\N{HANGUL SYLLABLE BYEOL}) missing from font(s) DejaVu Sans.\n",
      "\n",
      "C:\\Users\\USER\\AppData\\Local\\Temp\\ipykernel_22384\\1160761524.py:9: UserWarning:\n",
      "\n",
      "Glyph 51204 (\\N{HANGUL SYLLABLE JEON}) missing from font(s) DejaVu Sans.\n",
      "\n",
      "C:\\Users\\USER\\AppData\\Local\\Temp\\ipykernel_22384\\1160761524.py:9: UserWarning:\n",
      "\n",
      "Glyph 52404 (\\N{HANGUL SYLLABLE CE}) missing from font(s) DejaVu Sans.\n",
      "\n",
      "C:\\Users\\USER\\AppData\\Local\\Temp\\ipykernel_22384\\1160761524.py:9: UserWarning:\n",
      "\n",
      "Glyph 52628 (\\N{HANGUL SYLLABLE CU}) missing from font(s) DejaVu Sans.\n",
      "\n",
      "C:\\Users\\USER\\AppData\\Local\\Temp\\ipykernel_22384\\1160761524.py:9: UserWarning:\n",
      "\n",
      "Glyph 51060 (\\N{HANGUL SYLLABLE I}) missing from font(s) DejaVu Sans.\n",
      "\n",
      "C:\\Users\\USER\\AppData\\Local\\Temp\\ipykernel_22384\\1160761524.py:9: UserWarning:\n",
      "\n",
      "Glyph 47749 (\\N{HANGUL SYLLABLE MYEONG}) missing from font(s) DejaVu Sans.\n",
      "\n",
      "C:\\Users\\USER\\AppData\\Local\\Temp\\ipykernel_22384\\1160761524.py:9: UserWarning:\n",
      "\n",
      "Glyph 44397 (\\N{HANGUL SYLLABLE GUG}) missing from font(s) DejaVu Sans.\n",
      "\n",
      "C:\\Users\\USER\\AppData\\Local\\Temp\\ipykernel_22384\\1160761524.py:9: UserWarning:\n",
      "\n",
      "Glyph 44032 (\\N{HANGUL SYLLABLE GA}) missing from font(s) DejaVu Sans.\n",
      "\n",
      "c:\\Users\\USER\\anaconda3\\envs\\hi\\lib\\site-packages\\IPython\\core\\pylabtools.py:170: UserWarning:\n",
      "\n",
      "Glyph 54032 (\\N{HANGUL SYLLABLE PAN}) missing from font(s) DejaVu Sans.\n",
      "\n",
      "c:\\Users\\USER\\anaconda3\\envs\\hi\\lib\\site-packages\\IPython\\core\\pylabtools.py:170: UserWarning:\n",
      "\n",
      "Glyph 47588 (\\N{HANGUL SYLLABLE MAE}) missing from font(s) DejaVu Sans.\n",
      "\n",
      "c:\\Users\\USER\\anaconda3\\envs\\hi\\lib\\site-packages\\IPython\\core\\pylabtools.py:170: UserWarning:\n",
      "\n",
      "Glyph 47049 (\\N{HANGUL SYLLABLE RYANG}) missing from font(s) DejaVu Sans.\n",
      "\n",
      "c:\\Users\\USER\\anaconda3\\envs\\hi\\lib\\site-packages\\IPython\\core\\pylabtools.py:170: UserWarning:\n",
      "\n",
      "Glyph 44277 (\\N{HANGUL SYLLABLE GONG}) missing from font(s) DejaVu Sans.\n",
      "\n",
      "c:\\Users\\USER\\anaconda3\\envs\\hi\\lib\\site-packages\\IPython\\core\\pylabtools.py:170: UserWarning:\n",
      "\n",
      "Glyph 51109 (\\N{HANGUL SYLLABLE JANG}) missing from font(s) DejaVu Sans.\n",
      "\n",
      "c:\\Users\\USER\\anaconda3\\envs\\hi\\lib\\site-packages\\IPython\\core\\pylabtools.py:170: UserWarning:\n",
      "\n",
      "Glyph 48324 (\\N{HANGUL SYLLABLE BYEOL}) missing from font(s) DejaVu Sans.\n",
      "\n",
      "c:\\Users\\USER\\anaconda3\\envs\\hi\\lib\\site-packages\\IPython\\core\\pylabtools.py:170: UserWarning:\n",
      "\n",
      "Glyph 51204 (\\N{HANGUL SYLLABLE JEON}) missing from font(s) DejaVu Sans.\n",
      "\n",
      "c:\\Users\\USER\\anaconda3\\envs\\hi\\lib\\site-packages\\IPython\\core\\pylabtools.py:170: UserWarning:\n",
      "\n",
      "Glyph 52404 (\\N{HANGUL SYLLABLE CE}) missing from font(s) DejaVu Sans.\n",
      "\n",
      "c:\\Users\\USER\\anaconda3\\envs\\hi\\lib\\site-packages\\IPython\\core\\pylabtools.py:170: UserWarning:\n",
      "\n",
      "Glyph 52628 (\\N{HANGUL SYLLABLE CU}) missing from font(s) DejaVu Sans.\n",
      "\n",
      "c:\\Users\\USER\\anaconda3\\envs\\hi\\lib\\site-packages\\IPython\\core\\pylabtools.py:170: UserWarning:\n",
      "\n",
      "Glyph 51060 (\\N{HANGUL SYLLABLE I}) missing from font(s) DejaVu Sans.\n",
      "\n",
      "c:\\Users\\USER\\anaconda3\\envs\\hi\\lib\\site-packages\\IPython\\core\\pylabtools.py:170: UserWarning:\n",
      "\n",
      "Glyph 45216 (\\N{HANGUL SYLLABLE NAL}) missing from font(s) DejaVu Sans.\n",
      "\n",
      "c:\\Users\\USER\\anaconda3\\envs\\hi\\lib\\site-packages\\IPython\\core\\pylabtools.py:170: UserWarning:\n",
      "\n",
      "Glyph 51676 (\\N{HANGUL SYLLABLE JJA}) missing from font(s) DejaVu Sans.\n",
      "\n",
      "c:\\Users\\USER\\anaconda3\\envs\\hi\\lib\\site-packages\\IPython\\core\\pylabtools.py:170: UserWarning:\n",
      "\n",
      "Glyph 47749 (\\N{HANGUL SYLLABLE MYEONG}) missing from font(s) DejaVu Sans.\n",
      "\n",
      "c:\\Users\\USER\\anaconda3\\envs\\hi\\lib\\site-packages\\IPython\\core\\pylabtools.py:170: UserWarning:\n",
      "\n",
      "Glyph 44397 (\\N{HANGUL SYLLABLE GUG}) missing from font(s) DejaVu Sans.\n",
      "\n",
      "c:\\Users\\USER\\anaconda3\\envs\\hi\\lib\\site-packages\\IPython\\core\\pylabtools.py:170: UserWarning:\n",
      "\n",
      "Glyph 44032 (\\N{HANGUL SYLLABLE GA}) missing from font(s) DejaVu Sans.\n",
      "\n"
     ]
    },
    {
     "data": {
      "image/png": "[encoded data removed]",
      "text/plain": [
       "<Figure size 1200x500 with 1 Axes>"
      ]
     },
     "metadata": {},
     "output_type": "display_data"
    }
   ],
   "source": [
    "# 1. 공장별 전체 판매량 추이\n",
    "plt.figure(figsize=(12, 5))\n",
    "df_group1 = df_melted.groupby([\"날짜\", \"공장명(국가)\"])[\"판매량\"].sum().reset_index()\n",
    "sns.lineplot(data=df_group1, x=\"날짜\", y=\"판매량\", hue=\"공장명(국가)\", marker=\"o\")\n",
    "plt.title(\"공장별 전체 판매량 추이\")\n",
    "plt.xlabel(\"날짜\")\n",
    "plt.ylabel(\"판매량\")\n",
    "plt.xticks(rotation=45)\n",
    "plt.tight_layout()\n",
    "plt.show()"
   ]
  },
  {
   "cell_type": "code",
   "execution_count": 25,
   "metadata": {},
   "outputs": [],
   "source": [
    "month_cols = ['1월', '2월', '3월', '4월', '5월', '6월', '7월', '8월', '9월', '10월', '11월', '12월']"
   ]
  },
  {
   "cell_type": "code",
   "execution_count": 26,
   "metadata": {},
   "outputs": [],
   "source": [
    "# 2. 공장별 연간 총 판매량 (Bar Chart)\n",
    "df['총합'] = df[month_cols].sum(axis=1)\n",
    "bar_df = df.groupby('공장명(국가)')['총합'].sum().reset_index()"
   ]
  },
  {
   "cell_type": "code",
   "execution_count": 28,
   "metadata": {},
   "outputs": [
    {
     "name": "stderr",
     "output_type": "stream",
     "text": [
      "C:\\Users\\USER\\AppData\\Local\\Temp\\ipykernel_22384\\2906206651.py:2: FutureWarning:\n",
      "\n",
      "\n",
      "\n",
      "Passing `palette` without assigning `hue` is deprecated and will be removed in v0.14.0. Assign the `x` variable to `hue` and set `legend=False` for the same effect.\n",
      "\n",
      "\n",
      "C:\\Users\\USER\\AppData\\Local\\Temp\\ipykernel_22384\\2906206651.py:7: UserWarning:\n",
      "\n",
      "Glyph 44277 (\\N{HANGUL SYLLABLE GONG}) missing from font(s) DejaVu Sans.\n",
      "\n",
      "C:\\Users\\USER\\AppData\\Local\\Temp\\ipykernel_22384\\2906206651.py:7: UserWarning:\n",
      "\n",
      "Glyph 51109 (\\N{HANGUL SYLLABLE JANG}) missing from font(s) DejaVu Sans.\n",
      "\n",
      "C:\\Users\\USER\\AppData\\Local\\Temp\\ipykernel_22384\\2906206651.py:7: UserWarning:\n",
      "\n",
      "Glyph 47749 (\\N{HANGUL SYLLABLE MYEONG}) missing from font(s) DejaVu Sans.\n",
      "\n",
      "C:\\Users\\USER\\AppData\\Local\\Temp\\ipykernel_22384\\2906206651.py:7: UserWarning:\n",
      "\n",
      "Glyph 54032 (\\N{HANGUL SYLLABLE PAN}) missing from font(s) DejaVu Sans.\n",
      "\n",
      "C:\\Users\\USER\\AppData\\Local\\Temp\\ipykernel_22384\\2906206651.py:7: UserWarning:\n",
      "\n",
      "Glyph 47588 (\\N{HANGUL SYLLABLE MAE}) missing from font(s) DejaVu Sans.\n",
      "\n",
      "C:\\Users\\USER\\AppData\\Local\\Temp\\ipykernel_22384\\2906206651.py:7: UserWarning:\n",
      "\n",
      "Glyph 47049 (\\N{HANGUL SYLLABLE RYANG}) missing from font(s) DejaVu Sans.\n",
      "\n",
      "C:\\Users\\USER\\AppData\\Local\\Temp\\ipykernel_22384\\2906206651.py:7: UserWarning:\n",
      "\n",
      "Glyph 54633 (\\N{HANGUL SYLLABLE HAB}) missing from font(s) DejaVu Sans.\n",
      "\n",
      "C:\\Users\\USER\\AppData\\Local\\Temp\\ipykernel_22384\\2906206651.py:7: UserWarning:\n",
      "\n",
      "Glyph 44228 (\\N{HANGUL SYLLABLE GYE}) missing from font(s) DejaVu Sans.\n",
      "\n",
      "C:\\Users\\USER\\AppData\\Local\\Temp\\ipykernel_22384\\2906206651.py:7: UserWarning:\n",
      "\n",
      "Glyph 48324 (\\N{HANGUL SYLLABLE BYEOL}) missing from font(s) DejaVu Sans.\n",
      "\n",
      "C:\\Users\\USER\\AppData\\Local\\Temp\\ipykernel_22384\\2906206651.py:7: UserWarning:\n",
      "\n",
      "Glyph 50672 (\\N{HANGUL SYLLABLE YEON}) missing from font(s) DejaVu Sans.\n",
      "\n",
      "C:\\Users\\USER\\AppData\\Local\\Temp\\ipykernel_22384\\2906206651.py:7: UserWarning:\n",
      "\n",
      "Glyph 44036 (\\N{HANGUL SYLLABLE GAN}) missing from font(s) DejaVu Sans.\n",
      "\n",
      "C:\\Users\\USER\\AppData\\Local\\Temp\\ipykernel_22384\\2906206651.py:7: UserWarning:\n",
      "\n",
      "Glyph 52509 (\\N{HANGUL SYLLABLE CONG}) missing from font(s) DejaVu Sans.\n",
      "\n",
      "c:\\Users\\USER\\anaconda3\\envs\\hi\\lib\\site-packages\\IPython\\core\\pylabtools.py:170: UserWarning:\n",
      "\n",
      "Glyph 54032 (\\N{HANGUL SYLLABLE PAN}) missing from font(s) DejaVu Sans.\n",
      "\n",
      "c:\\Users\\USER\\anaconda3\\envs\\hi\\lib\\site-packages\\IPython\\core\\pylabtools.py:170: UserWarning:\n",
      "\n",
      "Glyph 47588 (\\N{HANGUL SYLLABLE MAE}) missing from font(s) DejaVu Sans.\n",
      "\n",
      "c:\\Users\\USER\\anaconda3\\envs\\hi\\lib\\site-packages\\IPython\\core\\pylabtools.py:170: UserWarning:\n",
      "\n",
      "Glyph 47049 (\\N{HANGUL SYLLABLE RYANG}) missing from font(s) DejaVu Sans.\n",
      "\n",
      "c:\\Users\\USER\\anaconda3\\envs\\hi\\lib\\site-packages\\IPython\\core\\pylabtools.py:170: UserWarning:\n",
      "\n",
      "Glyph 54633 (\\N{HANGUL SYLLABLE HAB}) missing from font(s) DejaVu Sans.\n",
      "\n",
      "c:\\Users\\USER\\anaconda3\\envs\\hi\\lib\\site-packages\\IPython\\core\\pylabtools.py:170: UserWarning:\n",
      "\n",
      "Glyph 44228 (\\N{HANGUL SYLLABLE GYE}) missing from font(s) DejaVu Sans.\n",
      "\n",
      "c:\\Users\\USER\\anaconda3\\envs\\hi\\lib\\site-packages\\IPython\\core\\pylabtools.py:170: UserWarning:\n",
      "\n",
      "Glyph 44277 (\\N{HANGUL SYLLABLE GONG}) missing from font(s) DejaVu Sans.\n",
      "\n",
      "c:\\Users\\USER\\anaconda3\\envs\\hi\\lib\\site-packages\\IPython\\core\\pylabtools.py:170: UserWarning:\n",
      "\n",
      "Glyph 51109 (\\N{HANGUL SYLLABLE JANG}) missing from font(s) DejaVu Sans.\n",
      "\n",
      "c:\\Users\\USER\\anaconda3\\envs\\hi\\lib\\site-packages\\IPython\\core\\pylabtools.py:170: UserWarning:\n",
      "\n",
      "Glyph 48324 (\\N{HANGUL SYLLABLE BYEOL}) missing from font(s) DejaVu Sans.\n",
      "\n",
      "c:\\Users\\USER\\anaconda3\\envs\\hi\\lib\\site-packages\\IPython\\core\\pylabtools.py:170: UserWarning:\n",
      "\n",
      "Glyph 50672 (\\N{HANGUL SYLLABLE YEON}) missing from font(s) DejaVu Sans.\n",
      "\n",
      "c:\\Users\\USER\\anaconda3\\envs\\hi\\lib\\site-packages\\IPython\\core\\pylabtools.py:170: UserWarning:\n",
      "\n",
      "Glyph 44036 (\\N{HANGUL SYLLABLE GAN}) missing from font(s) DejaVu Sans.\n",
      "\n",
      "c:\\Users\\USER\\anaconda3\\envs\\hi\\lib\\site-packages\\IPython\\core\\pylabtools.py:170: UserWarning:\n",
      "\n",
      "Glyph 52509 (\\N{HANGUL SYLLABLE CONG}) missing from font(s) DejaVu Sans.\n",
      "\n",
      "c:\\Users\\USER\\anaconda3\\envs\\hi\\lib\\site-packages\\IPython\\core\\pylabtools.py:170: UserWarning:\n",
      "\n",
      "Glyph 47749 (\\N{HANGUL SYLLABLE MYEONG}) missing from font(s) DejaVu Sans.\n",
      "\n"
     ]
    },
    {
     "data": {
      "image/png": "[encoded data removed]",
      "text/plain": [
       "<Figure size 1000x600 with 1 Axes>"
      ]
     },
     "metadata": {},
     "output_type": "display_data"
    }
   ],
   "source": [
    "plt.figure(figsize=(10, 6))\n",
    "sns.barplot(data=bar_df, x=\"공장명(국가)\", y=\"총합\", palette=\"Blues_d\")\n",
    "plt.title(\"공장별 연간 총 판매량\")\n",
    "plt.xlabel(\"공장명\")\n",
    "plt.ylabel(\"판매량 합계\")\n",
    "plt.xticks(rotation=45)\n",
    "plt.tight_layout()\n",
    "plt.show()\n"
   ]
  },
  {
   "cell_type": "code",
   "execution_count": 30,
   "metadata": {},
   "outputs": [],
   "source": [
    "# 3. 공장별 내수/수출 비율 (Pie Chart)\n",
    "pie_df = df.groupby(['공장명(국가)', '판매 구분'])['총합'].sum().reset_index()"
   ]
  },
  {
   "cell_type": "code",
   "execution_count": 32,
   "metadata": {},
   "outputs": [],
   "source": [
    "factory = \"HMI\"\n",
    "filtered_pie = pie_df[pie_df[\"공장명(국가)\"] == factory]"
   ]
  },
  {
   "cell_type": "code",
   "execution_count": 33,
   "metadata": {},
   "outputs": [],
   "source": [
    "import plotly.express as px"
   ]
  },
  {
   "cell_type": "code",
   "execution_count": 34,
   "metadata": {},
   "outputs": [
    {
     "data": {
      "application/vnd.plotly.v1+json": {
       "config": {
        "plotlyServerURL": "https://plot.ly"
       },
       "data": [
        {
         "domain": {
          "x": [
           0,
           1
          ],
          "y": [
           0,
           1
          ]
         },
         "hovertemplate": "판매 구분=%{label}<br>총합=%{value}<extra></extra>",
         "labels": [
          "내수용",
          "수출용"
         ],
         "legendgroup": "",
         "name": "",
         "showlegend": true,
         "type": "pie",
         "values": {
          "bdata": "3j8TAIkYBQA=",
          "dtype": "i4"
         }
        }
       ],
       "layout": {
        "legend": {
         "tracegroupgap": 0
        },
        "template": {
         "data": {
          "bar": [
           {
            "error_x": {
             "color": "#2a3f5f"
            },
            "error_y": {
             "color": "#2a3f5f"
            },
            "marker": {
             "line": {
              "color": "#E5ECF6",
              "width": 0.5
             },
             "pattern": {
              "fillmode": "overlay",
              "size": 10,
              "solidity": 0.2
             }
            },
            "type": "bar"
           }
          ],
          "barpolar": [
           {
            "marker": {
             "line": {
              "color": "#E5ECF6",
              "width": 0.5
             },
             "pattern": {
              "fillmode": "overlay",
              "size": 10,
              "solidity": 0.2
             }
            },
            "type": "barpolar"
           }
          ],
          "carpet": [
           {
            "aaxis": {
             "endlinecolor": "#2a3f5f",
             "gridcolor": "white",
             "linecolor": "white",
             "minorgridcolor": "white",
             "startlinecolor": "#2a3f5f"
            },
            "baxis": {
             "endlinecolor": "#2a3f5f",
             "gridcolor": "white",
             "linecolor": "white",
             "minorgridcolor": "white",
             "startlinecolor": "#2a3f5f"
            },
            "type": "carpet"
           }
          ],
          "choropleth": [
           {
            "colorbar": {
             "outlinewidth": 0,
             "ticks": ""
            },
            "type": "choropleth"
           }
          ],
          "contour": [
           {
            "colorbar": {
             "outlinewidth": 0,
             "ticks": ""
            },
            "colorscale": [
             [
              0,
              "#0d0887"
             ],
             [
              0.1111111111111111,
              "#46039f"
             ],
             [
              0.2222222222222222,
              "#7201a8"
             ],
             [
              0.3333333333333333,
              "#9c179e"
             ],
             [
              0.4444444444444444,
              "#bd3786"
             ],
             [
              0.5555555555555556,
              "#d8576b"
             ],
             [
              0.6666666666666666,
              "#ed7953"
             ],
             [
              0.7777777777777778,
              "#fb9f3a"
             ],
             [
              0.8888888888888888,
              "#fdca26"
             ],
             [
              1,
              "#f0f921"
             ]
            ],
            "type": "contour"
           }
          ],
          "contourcarpet": [
           {
            "colorbar": {
             "outlinewidth": 0,
             "ticks": ""
            },
            "type": "contourcarpet"
           }
          ],
          "heatmap": [
           {
            "colorbar": {
             "outlinewidth": 0,
             "ticks": ""
            },
            "colorscale": [
             [
              0,
              "#0d0887"
             ],
             [
              0.1111111111111111,
              "#46039f"
             ],
             [
              0.2222222222222222,
              "#7201a8"
             ],
             [
              0.3333333333333333,
              "#9c179e"
             ],
             [
              0.4444444444444444,
              "#bd3786"
             ],
             [
              0.5555555555555556,
              "#d8576b"
             ],
             [
              0.6666666666666666,
              "#ed7953"
             ],
             [
              0.7777777777777778,
              "#fb9f3a"
             ],
             [
              0.8888888888888888,
              "#fdca26"
             ],
             [
              1,
              "#f0f921"
             ]
            ],
            "type": "heatmap"
           }
          ],
          "histogram": [
           {
            "marker": {
             "pattern": {
              "fillmode": "overlay",
              "size": 10,
              "solidity": 0.2
             }
            },
            "type": "histogram"
           }
          ],
          "histogram2d": [
           {
            "colorbar": {
             "outlinewidth": 0,
             "ticks": ""
            },
            "colorscale": [
             [
              0,
              "#0d0887"
             ],
             [
              0.1111111111111111,
              "#46039f"
             ],
             [
              0.2222222222222222,
              "#7201a8"
             ],
             [
              0.3333333333333333,
              "#9c179e"
             ],
             [
              0.4444444444444444,
              "#bd3786"
             ],
             [
              0.5555555555555556,
              "#d8576b"
             ],
             [
              0.6666666666666666,
              "#ed7953"
             ],
             [
              0.7777777777777778,
              "#fb9f3a"
             ],
             [
              0.8888888888888888,
              "#fdca26"
             ],
             [
              1,
              "#f0f921"
             ]
            ],
            "type": "histogram2d"
           }
          ],
          "histogram2dcontour": [
           {
            "colorbar": {
             "outlinewidth": 0,
             "ticks": ""
            },
            "colorscale": [
             [
              0,
              "#0d0887"
             ],
             [
              0.1111111111111111,
              "#46039f"
             ],
             [
              0.2222222222222222,
              "#7201a8"
             ],
             [
              0.3333333333333333,
              "#9c179e"
             ],
             [
              0.4444444444444444,
              "#bd3786"
             ],
             [
              0.5555555555555556,
              "#d8576b"
             ],
             [
              0.6666666666666666,
              "#ed7953"
             ],
             [
              0.7777777777777778,
              "#fb9f3a"
             ],
             [
              0.8888888888888888,
              "#fdca26"
             ],
             [
              1,
              "#f0f921"
             ]
            ],
            "type": "histogram2dcontour"
           }
          ],
          "mesh3d": [
           {
            "colorbar": {
             "outlinewidth": 0,
             "ticks": ""
            },
            "type": "mesh3d"
           }
          ],
          "parcoords": [
           {
            "line": {
             "colorbar": {
              "outlinewidth": 0,
              "ticks": ""
             }
            },
            "type": "parcoords"
           }
          ],
          "pie": [
           {
            "automargin": true,
            "type": "pie"
           }
          ],
          "scatter": [
           {
            "fillpattern": {
             "fillmode": "overlay",
             "size": 10,
             "solidity": 0.2
            },
            "type": "scatter"
           }
          ],
          "scatter3d": [
           {
            "line": {
             "colorbar": {
              "outlinewidth": 0,
              "ticks": ""
             }
            },
            "marker": {
             "colorbar": {
              "outlinewidth": 0,
              "ticks": ""
             }
            },
            "type": "scatter3d"
           }
          ],
          "scattercarpet": [
           {
            "marker": {
             "colorbar": {
              "outlinewidth": 0,
              "ticks": ""
             }
            },
            "type": "scattercarpet"
           }
          ],
          "scattergeo": [
           {
            "marker": {
             "colorbar": {
              "outlinewidth": 0,
              "ticks": ""
             }
            },
            "type": "scattergeo"
           }
          ],
          "scattergl": [
           {
            "marker": {
             "colorbar": {
              "outlinewidth": 0,
              "ticks": ""
             }
            },
            "type": "scattergl"
           }
          ],
          "scattermap": [
           {
            "marker": {
             "colorbar": {
              "outlinewidth": 0,
              "ticks": ""
             }
            },
            "type": "scattermap"
           }
          ],
          "scattermapbox": [
           {
            "marker": {
             "colorbar": {
              "outlinewidth": 0,
              "ticks": ""
             }
            },
            "type": "scattermapbox"
           }
          ],
          "scatterpolar": [
           {
            "marker": {
             "colorbar": {
              "outlinewidth": 0,
              "ticks": ""
             }
            },
            "type": "scatterpolar"
           }
          ],
          "scatterpolargl": [
           {
            "marker": {
             "colorbar": {
              "outlinewidth": 0,
              "ticks": ""
             }
            },
            "type": "scatterpolargl"
           }
          ],
          "scatterternary": [
           {
            "marker": {
             "colorbar": {
              "outlinewidth": 0,
              "ticks": ""
             }
            },
            "type": "scatterternary"
           }
          ],
          "surface": [
           {
            "colorbar": {
             "outlinewidth": 0,
             "ticks": ""
            },
            "colorscale": [
             [
              0,
              "#0d0887"
             ],
             [
              0.1111111111111111,
              "#46039f"
             ],
             [
              0.2222222222222222,
              "#7201a8"
             ],
             [
              0.3333333333333333,
              "#9c179e"
             ],
             [
              0.4444444444444444,
              "#bd3786"
             ],
             [
              0.5555555555555556,
              "#d8576b"
             ],
             [
              0.6666666666666666,
              "#ed7953"
             ],
             [
              0.7777777777777778,
              "#fb9f3a"
             ],
             [
              0.8888888888888888,
              "#fdca26"
             ],
             [
              1,
              "#f0f921"
             ]
            ],
            "type": "surface"
           }
          ],
          "table": [
           {
            "cells": {
             "fill": {
              "color": "#EBF0F8"
             },
             "line": {
              "color": "white"
             }
            },
            "header": {
             "fill": {
              "color": "#C8D4E3"
             },
             "line": {
              "color": "white"
             }
            },
            "type": "table"
           }
          ]
         },
         "layout": {
          "annotationdefaults": {
           "arrowcolor": "#2a3f5f",
           "arrowhead": 0,
           "arrowwidth": 1
          },
          "autotypenumbers": "strict",
          "coloraxis": {
           "colorbar": {
            "outlinewidth": 0,
            "ticks": ""
           }
          },
          "colorscale": {
           "diverging": [
            [
             0,
             "#8e0152"
            ],
            [
             0.1,
             "#c51b7d"
            ],
            [
             0.2,
             "#de77ae"
            ],
            [
             0.3,
             "#f1b6da"
            ],
            [
             0.4,
             "#fde0ef"
            ],
            [
             0.5,
             "#f7f7f7"
            ],
            [
             0.6,
             "#e6f5d0"
            ],
            [
             0.7,
             "#b8e186"
            ],
            [
             0.8,
             "#7fbc41"
            ],
            [
             0.9,
             "#4d9221"
            ],
            [
             1,
             "#276419"
            ]
           ],
           "sequential": [
            [
             0,
             "#0d0887"
            ],
            [
             0.1111111111111111,
             "#46039f"
            ],
            [
             0.2222222222222222,
             "#7201a8"
            ],
            [
             0.3333333333333333,
             "#9c179e"
            ],
            [
             0.4444444444444444,
             "#bd3786"
            ],
            [
             0.5555555555555556,
             "#d8576b"
            ],
            [
             0.6666666666666666,
             "#ed7953"
            ],
            [
             0.7777777777777778,
             "#fb9f3a"
            ],
            [
             0.8888888888888888,
             "#fdca26"
            ],
            [
             1,
             "#f0f921"
            ]
           ],
           "sequentialminus": [
            [
             0,
             "#0d0887"
            ],
            [
             0.1111111111111111,
             "#46039f"
            ],
            [
             0.2222222222222222,
             "#7201a8"
            ],
            [
             0.3333333333333333,
             "#9c179e"
            ],
            [
             0.4444444444444444,
             "#bd3786"
            ],
            [
             0.5555555555555556,
             "#d8576b"
            ],
            [
             0.6666666666666666,
             "#ed7953"
            ],
            [
             0.7777777777777778,
             "#fb9f3a"
            ],
            [
             0.8888888888888888,
             "#fdca26"
            ],
            [
             1,
             "#f0f921"
            ]
           ]
          },
          "colorway": [
           "#636efa",
           "#EF553B",
           "#00cc96",
           "#ab63fa",
           "#FFA15A",
           "#19d3f3",
           "#FF6692",
           "#B6E880",
           "#FF97FF",
           "#FECB52"
          ],
          "font": {
           "color": "#2a3f5f"
          },
          "geo": {
           "bgcolor": "white",
           "lakecolor": "white",
           "landcolor": "#E5ECF6",
           "showlakes": true,
           "showland": true,
           "subunitcolor": "white"
          },
          "hoverlabel": {
           "align": "left"
          },
          "hovermode": "closest",
          "mapbox": {
           "style": "light"
          },
          "paper_bgcolor": "white",
          "plot_bgcolor": "#E5ECF6",
          "polar": {
           "angularaxis": {
            "gridcolor": "white",
            "linecolor": "white",
            "ticks": ""
           },
           "bgcolor": "#E5ECF6",
           "radialaxis": {
            "gridcolor": "white",
            "linecolor": "white",
            "ticks": ""
           }
          },
          "scene": {
           "xaxis": {
            "backgroundcolor": "#E5ECF6",
            "gridcolor": "white",
            "gridwidth": 2,
            "linecolor": "white",
            "showbackground": true,
            "ticks": "",
            "zerolinecolor": "white"
           },
           "yaxis": {
            "backgroundcolor": "#E5ECF6",
            "gridcolor": "white",
            "gridwidth": 2,
            "linecolor": "white",
            "showbackground": true,
            "ticks": "",
            "zerolinecolor": "white"
           },
           "zaxis": {
            "backgroundcolor": "#E5ECF6",
            "gridcolor": "white",
            "gridwidth": 2,
            "linecolor": "white",
            "showbackground": true,
            "ticks": "",
            "zerolinecolor": "white"
           }
          },
          "shapedefaults": {
           "line": {
            "color": "#2a3f5f"
           }
          },
          "ternary": {
           "aaxis": {
            "gridcolor": "white",
            "linecolor": "white",
            "ticks": ""
           },
           "baxis": {
            "gridcolor": "white",
            "linecolor": "white",
            "ticks": ""
           },
           "bgcolor": "#E5ECF6",
           "caxis": {
            "gridcolor": "white",
            "linecolor": "white",
            "ticks": ""
           }
          },
          "title": {
           "x": 0.05
          },
          "xaxis": {
           "automargin": true,
           "gridcolor": "white",
           "linecolor": "white",
           "ticks": "",
           "title": {
            "standoff": 15
           },
           "zerolinecolor": "white",
           "zerolinewidth": 2
          },
          "yaxis": {
           "automargin": true,
           "gridcolor": "white",
           "linecolor": "white",
           "ticks": "",
           "title": {
            "standoff": 15
           },
           "zerolinecolor": "white",
           "zerolinewidth": 2
          }
         }
        },
        "title": {
         "text": "HMI 내수/수출 비율"
        }
       }
      }
     },
     "metadata": {},
     "output_type": "display_data"
    }
   ],
   "source": [
    "fig = px.pie(filtered_pie, names=\"판매 구분\", values=\"총합\", title=f\"{factory} 내수/수출 비율\")\n",
    "fig.show()"
   ]
  },
  {
   "cell_type": "code",
   "execution_count": 35,
   "metadata": {},
   "outputs": [],
   "source": [
    "# 1. 차량 모델별 월별 판매 트렌드 (Line Chart)\n",
    "line_df = df.groupby('차량 모델')[month_cols].sum().T\n",
    "line_df.columns.name = None"
   ]
  },
  {
   "cell_type": "code",
   "execution_count": 37,
   "metadata": {},
   "outputs": [
    {
     "data": {
      "text/html": [
       "<div>\n",
       "<style scoped>\n",
       "    .dataframe tbody tr th:only-of-type {\n",
       "        vertical-align: middle;\n",
       "    }\n",
       "\n",
       "    .dataframe tbody tr th {\n",
       "        vertical-align: top;\n",
       "    }\n",
       "\n",
       "    .dataframe thead th {\n",
       "        text-align: right;\n",
       "    }\n",
       "</style>\n",
       "<table border=\"1\" class=\"dataframe\">\n",
       "  <thead>\n",
       "    <tr style=\"text-align: right;\">\n",
       "      <th></th>\n",
       "      <th>Aura (AI3 4DR)</th>\n",
       "      <th>Celesta (ID)</th>\n",
       "      <th>Creta (SU2i EV)</th>\n",
       "      <th>Creta (SU2i LWB)</th>\n",
       "      <th>Creta (SU2i)</th>\n",
       "      <th>Creta(SU2i LWB)</th>\n",
       "      <th>Creta(SU2i)</th>\n",
       "      <th>Custo (KU)</th>\n",
       "      <th>Elantra (CN7c)</th>\n",
       "      <th>Exter(AI3 SUV)</th>\n",
       "      <th>...</th>\n",
       "      <th>Tucson (TLv)</th>\n",
       "      <th>Tucson OB (NX4a OB)</th>\n",
       "      <th>Venue (QXv)</th>\n",
       "      <th>Xcent(BA 4DR)</th>\n",
       "      <th>Xcent(BA 5DR)</th>\n",
       "      <th>i10 (AC3)</th>\n",
       "      <th>i10(AI3v 4DR)</th>\n",
       "      <th>i10(AI3v 5DR)</th>\n",
       "      <th>i20 (BC3)</th>\n",
       "      <th>i20 N (BC3 N)</th>\n",
       "    </tr>\n",
       "  </thead>\n",
       "  <tbody>\n",
       "    <tr>\n",
       "      <th>1월</th>\n",
       "      <td>5733</td>\n",
       "      <td>764</td>\n",
       "      <td>1735</td>\n",
       "      <td>4674</td>\n",
       "      <td>45036</td>\n",
       "      <td>2599</td>\n",
       "      <td>2776</td>\n",
       "      <td>2203</td>\n",
       "      <td>21134</td>\n",
       "      <td>83</td>\n",
       "      <td>...</td>\n",
       "      <td>0</td>\n",
       "      <td>10735</td>\n",
       "      <td>359</td>\n",
       "      <td>0</td>\n",
       "      <td>0</td>\n",
       "      <td>20556</td>\n",
       "      <td>319</td>\n",
       "      <td>1023</td>\n",
       "      <td>29592</td>\n",
       "      <td>1724</td>\n",
       "    </tr>\n",
       "    <tr>\n",
       "      <th>2월</th>\n",
       "      <td>6251</td>\n",
       "      <td>1116</td>\n",
       "      <td>0</td>\n",
       "      <td>2849</td>\n",
       "      <td>25697</td>\n",
       "      <td>1431</td>\n",
       "      <td>3393</td>\n",
       "      <td>886</td>\n",
       "      <td>13522</td>\n",
       "      <td>26</td>\n",
       "      <td>...</td>\n",
       "      <td>0</td>\n",
       "      <td>7976</td>\n",
       "      <td>4</td>\n",
       "      <td>0</td>\n",
       "      <td>0</td>\n",
       "      <td>11458</td>\n",
       "      <td>171</td>\n",
       "      <td>1012</td>\n",
       "      <td>17870</td>\n",
       "      <td>1101</td>\n",
       "    </tr>\n",
       "    <tr>\n",
       "      <th>3월</th>\n",
       "      <td>6085</td>\n",
       "      <td>1560</td>\n",
       "      <td>0</td>\n",
       "      <td>3939</td>\n",
       "      <td>30484</td>\n",
       "      <td>2111</td>\n",
       "      <td>1914</td>\n",
       "      <td>1679</td>\n",
       "      <td>24530</td>\n",
       "      <td>40</td>\n",
       "      <td>...</td>\n",
       "      <td>0</td>\n",
       "      <td>7220</td>\n",
       "      <td>316</td>\n",
       "      <td>0</td>\n",
       "      <td>0</td>\n",
       "      <td>13640</td>\n",
       "      <td>192</td>\n",
       "      <td>941</td>\n",
       "      <td>20961</td>\n",
       "      <td>1514</td>\n",
       "    </tr>\n",
       "    <tr>\n",
       "      <th>4월</th>\n",
       "      <td>6234</td>\n",
       "      <td>165</td>\n",
       "      <td>0</td>\n",
       "      <td>3256</td>\n",
       "      <td>29633</td>\n",
       "      <td>1716</td>\n",
       "      <td>514</td>\n",
       "      <td>1833</td>\n",
       "      <td>12641</td>\n",
       "      <td>13</td>\n",
       "      <td>...</td>\n",
       "      <td>0</td>\n",
       "      <td>7603</td>\n",
       "      <td>508</td>\n",
       "      <td>0</td>\n",
       "      <td>0</td>\n",
       "      <td>12224</td>\n",
       "      <td>32</td>\n",
       "      <td>590</td>\n",
       "      <td>14348</td>\n",
       "      <td>1104</td>\n",
       "    </tr>\n",
       "    <tr>\n",
       "      <th>5월</th>\n",
       "      <td>5746</td>\n",
       "      <td>0</td>\n",
       "      <td>0</td>\n",
       "      <td>3387</td>\n",
       "      <td>29111</td>\n",
       "      <td>1880</td>\n",
       "      <td>704</td>\n",
       "      <td>2168</td>\n",
       "      <td>16741</td>\n",
       "      <td>2</td>\n",
       "      <td>...</td>\n",
       "      <td>0</td>\n",
       "      <td>7659</td>\n",
       "      <td>698</td>\n",
       "      <td>0</td>\n",
       "      <td>0</td>\n",
       "      <td>13598</td>\n",
       "      <td>179</td>\n",
       "      <td>155</td>\n",
       "      <td>19840</td>\n",
       "      <td>603</td>\n",
       "    </tr>\n",
       "    <tr>\n",
       "      <th>6월</th>\n",
       "      <td>7610</td>\n",
       "      <td>0</td>\n",
       "      <td>0</td>\n",
       "      <td>3001</td>\n",
       "      <td>30740</td>\n",
       "      <td>2237</td>\n",
       "      <td>599</td>\n",
       "      <td>2184</td>\n",
       "      <td>16443</td>\n",
       "      <td>5</td>\n",
       "      <td>...</td>\n",
       "      <td>0</td>\n",
       "      <td>5987</td>\n",
       "      <td>189</td>\n",
       "      <td>0</td>\n",
       "      <td>0</td>\n",
       "      <td>10959</td>\n",
       "      <td>142</td>\n",
       "      <td>698</td>\n",
       "      <td>14078</td>\n",
       "      <td>1118</td>\n",
       "    </tr>\n",
       "    <tr>\n",
       "      <th>7월</th>\n",
       "      <td>7477</td>\n",
       "      <td>0</td>\n",
       "      <td>0</td>\n",
       "      <td>2028</td>\n",
       "      <td>31412</td>\n",
       "      <td>2179</td>\n",
       "      <td>924</td>\n",
       "      <td>1977</td>\n",
       "      <td>6901</td>\n",
       "      <td>1008</td>\n",
       "      <td>...</td>\n",
       "      <td>0</td>\n",
       "      <td>4795</td>\n",
       "      <td>62</td>\n",
       "      <td>0</td>\n",
       "      <td>0</td>\n",
       "      <td>13058</td>\n",
       "      <td>166</td>\n",
       "      <td>937</td>\n",
       "      <td>16800</td>\n",
       "      <td>1155</td>\n",
       "    </tr>\n",
       "    <tr>\n",
       "      <th>8월</th>\n",
       "      <td>7915</td>\n",
       "      <td>0</td>\n",
       "      <td>0</td>\n",
       "      <td>2598</td>\n",
       "      <td>30594</td>\n",
       "      <td>1401</td>\n",
       "      <td>703</td>\n",
       "      <td>2443</td>\n",
       "      <td>12877</td>\n",
       "      <td>1010</td>\n",
       "      <td>...</td>\n",
       "      <td>0</td>\n",
       "      <td>7315</td>\n",
       "      <td>40</td>\n",
       "      <td>0</td>\n",
       "      <td>0</td>\n",
       "      <td>8380</td>\n",
       "      <td>144</td>\n",
       "      <td>1014</td>\n",
       "      <td>9516</td>\n",
       "      <td>997</td>\n",
       "    </tr>\n",
       "    <tr>\n",
       "      <th>9월</th>\n",
       "      <td>8024</td>\n",
       "      <td>0</td>\n",
       "      <td>0</td>\n",
       "      <td>4689</td>\n",
       "      <td>28619</td>\n",
       "      <td>1099</td>\n",
       "      <td>733</td>\n",
       "      <td>2814</td>\n",
       "      <td>14409</td>\n",
       "      <td>733</td>\n",
       "      <td>...</td>\n",
       "      <td>0</td>\n",
       "      <td>6926</td>\n",
       "      <td>360</td>\n",
       "      <td>0</td>\n",
       "      <td>0</td>\n",
       "      <td>14270</td>\n",
       "      <td>152</td>\n",
       "      <td>1031</td>\n",
       "      <td>15005</td>\n",
       "      <td>1179</td>\n",
       "    </tr>\n",
       "    <tr>\n",
       "      <th>10월</th>\n",
       "      <td>7622</td>\n",
       "      <td>0</td>\n",
       "      <td>0</td>\n",
       "      <td>4041</td>\n",
       "      <td>30574</td>\n",
       "      <td>1159</td>\n",
       "      <td>859</td>\n",
       "      <td>2437</td>\n",
       "      <td>11899</td>\n",
       "      <td>919</td>\n",
       "      <td>...</td>\n",
       "      <td>0</td>\n",
       "      <td>5989</td>\n",
       "      <td>350</td>\n",
       "      <td>0</td>\n",
       "      <td>0</td>\n",
       "      <td>14111</td>\n",
       "      <td>140</td>\n",
       "      <td>1316</td>\n",
       "      <td>16661</td>\n",
       "      <td>903</td>\n",
       "    </tr>\n",
       "    <tr>\n",
       "      <th>11월</th>\n",
       "      <td>6933</td>\n",
       "      <td>0</td>\n",
       "      <td>0</td>\n",
       "      <td>4047</td>\n",
       "      <td>27266</td>\n",
       "      <td>2076</td>\n",
       "      <td>530</td>\n",
       "      <td>1543</td>\n",
       "      <td>14171</td>\n",
       "      <td>1165</td>\n",
       "      <td>...</td>\n",
       "      <td>0</td>\n",
       "      <td>5306</td>\n",
       "      <td>290</td>\n",
       "      <td>0</td>\n",
       "      <td>0</td>\n",
       "      <td>14040</td>\n",
       "      <td>94</td>\n",
       "      <td>977</td>\n",
       "      <td>19590</td>\n",
       "      <td>911</td>\n",
       "    </tr>\n",
       "    <tr>\n",
       "      <th>12월</th>\n",
       "      <td>6767</td>\n",
       "      <td>2</td>\n",
       "      <td>0</td>\n",
       "      <td>2296</td>\n",
       "      <td>21851</td>\n",
       "      <td>1704</td>\n",
       "      <td>586</td>\n",
       "      <td>2678</td>\n",
       "      <td>17728</td>\n",
       "      <td>553</td>\n",
       "      <td>...</td>\n",
       "      <td>0</td>\n",
       "      <td>5860</td>\n",
       "      <td>287</td>\n",
       "      <td>0</td>\n",
       "      <td>0</td>\n",
       "      <td>12759</td>\n",
       "      <td>102</td>\n",
       "      <td>929</td>\n",
       "      <td>19909</td>\n",
       "      <td>896</td>\n",
       "    </tr>\n",
       "  </tbody>\n",
       "</table>\n",
       "<p>12 rows × 116 columns</p>\n",
       "</div>"
      ],
      "text/plain": [
       "      Aura (AI3 4DR)   Celesta (ID)   Creta (SU2i EV)   Creta (SU2i LWB)  \\\n",
       "1월              5733            764              1735               4674   \n",
       "2월              6251           1116                 0               2849   \n",
       "3월              6085           1560                 0               3939   \n",
       "4월              6234            165                 0               3256   \n",
       "5월              5746              0                 0               3387   \n",
       "6월              7610              0                 0               3001   \n",
       "7월              7477              0                 0               2028   \n",
       "8월              7915              0                 0               2598   \n",
       "9월              8024              0                 0               4689   \n",
       "10월             7622              0                 0               4041   \n",
       "11월             6933              0                 0               4047   \n",
       "12월             6767              2                 0               2296   \n",
       "\n",
       "      Creta (SU2i)   Creta(SU2i LWB)   Creta(SU2i)   Custo (KU)  \\\n",
       "1월           45036              2599          2776         2203   \n",
       "2월           25697              1431          3393          886   \n",
       "3월           30484              2111          1914         1679   \n",
       "4월           29633              1716           514         1833   \n",
       "5월           29111              1880           704         2168   \n",
       "6월           30740              2237           599         2184   \n",
       "7월           31412              2179           924         1977   \n",
       "8월           30594              1401           703         2443   \n",
       "9월           28619              1099           733         2814   \n",
       "10월          30574              1159           859         2437   \n",
       "11월          27266              2076           530         1543   \n",
       "12월          21851              1704           586         2678   \n",
       "\n",
       "      Elantra (CN7c)   Exter(AI3 SUV)  ...  Tucson (TLv)  Tucson OB (NX4a OB)  \\\n",
       "1월             21134               83  ...             0                10735   \n",
       "2월             13522               26  ...             0                 7976   \n",
       "3월             24530               40  ...             0                 7220   \n",
       "4월             12641               13  ...             0                 7603   \n",
       "5월             16741                2  ...             0                 7659   \n",
       "6월             16443                5  ...             0                 5987   \n",
       "7월              6901             1008  ...             0                 4795   \n",
       "8월             12877             1010  ...             0                 7315   \n",
       "9월             14409              733  ...             0                 6926   \n",
       "10월            11899              919  ...             0                 5989   \n",
       "11월            14171             1165  ...             0                 5306   \n",
       "12월            17728              553  ...             0                 5860   \n",
       "\n",
       "     Venue (QXv)  Xcent(BA 4DR)  Xcent(BA 5DR)  i10 (AC3)  i10(AI3v 4DR)  \\\n",
       "1월           359              0              0      20556            319   \n",
       "2월             4              0              0      11458            171   \n",
       "3월           316              0              0      13640            192   \n",
       "4월           508              0              0      12224             32   \n",
       "5월           698              0              0      13598            179   \n",
       "6월           189              0              0      10959            142   \n",
       "7월            62              0              0      13058            166   \n",
       "8월            40              0              0       8380            144   \n",
       "9월           360              0              0      14270            152   \n",
       "10월          350              0              0      14111            140   \n",
       "11월          290              0              0      14040             94   \n",
       "12월          287              0              0      12759            102   \n",
       "\n",
       "     i10(AI3v 5DR)  i20 (BC3)  i20 N (BC3 N)  \n",
       "1월            1023      29592           1724  \n",
       "2월            1012      17870           1101  \n",
       "3월             941      20961           1514  \n",
       "4월             590      14348           1104  \n",
       "5월             155      19840            603  \n",
       "6월             698      14078           1118  \n",
       "7월             937      16800           1155  \n",
       "8월            1014       9516            997  \n",
       "9월            1031      15005           1179  \n",
       "10월           1316      16661            903  \n",
       "11월            977      19590            911  \n",
       "12월            929      19909            896  \n",
       "\n",
       "[12 rows x 116 columns]"
      ]
     },
     "execution_count": 37,
     "metadata": {},
     "output_type": "execute_result"
    }
   ],
   "source": [
    "line_df"
   ]
  },
  {
   "cell_type": "code",
   "execution_count": null,
   "metadata": {},
   "outputs": [],
   "source": [
    "line_df"
   ]
  },
  {
   "cell_type": "code",
   "execution_count": 36,
   "metadata": {},
   "outputs": [
    {
     "name": "stderr",
     "output_type": "stream",
     "text": [
      "C:\\Users\\USER\\AppData\\Local\\Temp\\ipykernel_22384\\2442773795.py:10: UserWarning:\n",
      "\n",
      "Glyph 50900 (\\N{HANGUL SYLLABLE WEOL}) missing from font(s) DejaVu Sans.\n",
      "\n",
      "C:\\Users\\USER\\AppData\\Local\\Temp\\ipykernel_22384\\2442773795.py:10: UserWarning:\n",
      "\n",
      "Glyph 54032 (\\N{HANGUL SYLLABLE PAN}) missing from font(s) DejaVu Sans.\n",
      "\n",
      "C:\\Users\\USER\\AppData\\Local\\Temp\\ipykernel_22384\\2442773795.py:10: UserWarning:\n",
      "\n",
      "Glyph 47588 (\\N{HANGUL SYLLABLE MAE}) missing from font(s) DejaVu Sans.\n",
      "\n",
      "C:\\Users\\USER\\AppData\\Local\\Temp\\ipykernel_22384\\2442773795.py:10: UserWarning:\n",
      "\n",
      "Glyph 47049 (\\N{HANGUL SYLLABLE RYANG}) missing from font(s) DejaVu Sans.\n",
      "\n",
      "C:\\Users\\USER\\AppData\\Local\\Temp\\ipykernel_22384\\2442773795.py:10: UserWarning:\n",
      "\n",
      "Glyph 52264 (\\N{HANGUL SYLLABLE CA}) missing from font(s) DejaVu Sans.\n",
      "\n",
      "C:\\Users\\USER\\AppData\\Local\\Temp\\ipykernel_22384\\2442773795.py:10: UserWarning:\n",
      "\n",
      "Glyph 47784 (\\N{HANGUL SYLLABLE MO}) missing from font(s) DejaVu Sans.\n",
      "\n",
      "C:\\Users\\USER\\AppData\\Local\\Temp\\ipykernel_22384\\2442773795.py:10: UserWarning:\n",
      "\n",
      "Glyph 45944 (\\N{HANGUL SYLLABLE DEL}) missing from font(s) DejaVu Sans.\n",
      "\n",
      "C:\\Users\\USER\\AppData\\Local\\Temp\\ipykernel_22384\\2442773795.py:10: UserWarning:\n",
      "\n",
      "Glyph 48324 (\\N{HANGUL SYLLABLE BYEOL}) missing from font(s) DejaVu Sans.\n",
      "\n",
      "C:\\Users\\USER\\AppData\\Local\\Temp\\ipykernel_22384\\2442773795.py:10: UserWarning:\n",
      "\n",
      "Glyph 53944 (\\N{HANGUL SYLLABLE TEU}) missing from font(s) DejaVu Sans.\n",
      "\n",
      "C:\\Users\\USER\\AppData\\Local\\Temp\\ipykernel_22384\\2442773795.py:10: UserWarning:\n",
      "\n",
      "Glyph 47116 (\\N{HANGUL SYLLABLE REN}) missing from font(s) DejaVu Sans.\n",
      "\n",
      "C:\\Users\\USER\\AppData\\Local\\Temp\\ipykernel_22384\\2442773795.py:10: UserWarning:\n",
      "\n",
      "Glyph 46300 (\\N{HANGUL SYLLABLE DEU}) missing from font(s) DejaVu Sans.\n",
      "\n",
      "c:\\Users\\USER\\anaconda3\\envs\\hi\\lib\\site-packages\\IPython\\core\\pylabtools.py:170: UserWarning:\n",
      "\n",
      "Glyph 54032 (\\N{HANGUL SYLLABLE PAN}) missing from font(s) DejaVu Sans.\n",
      "\n",
      "c:\\Users\\USER\\anaconda3\\envs\\hi\\lib\\site-packages\\IPython\\core\\pylabtools.py:170: UserWarning:\n",
      "\n",
      "Glyph 47588 (\\N{HANGUL SYLLABLE MAE}) missing from font(s) DejaVu Sans.\n",
      "\n",
      "c:\\Users\\USER\\anaconda3\\envs\\hi\\lib\\site-packages\\IPython\\core\\pylabtools.py:170: UserWarning:\n",
      "\n",
      "Glyph 47049 (\\N{HANGUL SYLLABLE RYANG}) missing from font(s) DejaVu Sans.\n",
      "\n",
      "c:\\Users\\USER\\anaconda3\\envs\\hi\\lib\\site-packages\\IPython\\core\\pylabtools.py:170: UserWarning:\n",
      "\n",
      "Glyph 52264 (\\N{HANGUL SYLLABLE CA}) missing from font(s) DejaVu Sans.\n",
      "\n",
      "c:\\Users\\USER\\anaconda3\\envs\\hi\\lib\\site-packages\\IPython\\core\\pylabtools.py:170: UserWarning:\n",
      "\n",
      "Glyph 47784 (\\N{HANGUL SYLLABLE MO}) missing from font(s) DejaVu Sans.\n",
      "\n",
      "c:\\Users\\USER\\anaconda3\\envs\\hi\\lib\\site-packages\\IPython\\core\\pylabtools.py:170: UserWarning:\n",
      "\n",
      "Glyph 45944 (\\N{HANGUL SYLLABLE DEL}) missing from font(s) DejaVu Sans.\n",
      "\n",
      "c:\\Users\\USER\\anaconda3\\envs\\hi\\lib\\site-packages\\IPython\\core\\pylabtools.py:170: UserWarning:\n",
      "\n",
      "Glyph 48324 (\\N{HANGUL SYLLABLE BYEOL}) missing from font(s) DejaVu Sans.\n",
      "\n",
      "c:\\Users\\USER\\anaconda3\\envs\\hi\\lib\\site-packages\\IPython\\core\\pylabtools.py:170: UserWarning:\n",
      "\n",
      "Glyph 50900 (\\N{HANGUL SYLLABLE WEOL}) missing from font(s) DejaVu Sans.\n",
      "\n",
      "c:\\Users\\USER\\anaconda3\\envs\\hi\\lib\\site-packages\\IPython\\core\\pylabtools.py:170: UserWarning:\n",
      "\n",
      "Glyph 53944 (\\N{HANGUL SYLLABLE TEU}) missing from font(s) DejaVu Sans.\n",
      "\n",
      "c:\\Users\\USER\\anaconda3\\envs\\hi\\lib\\site-packages\\IPython\\core\\pylabtools.py:170: UserWarning:\n",
      "\n",
      "Glyph 47116 (\\N{HANGUL SYLLABLE REN}) missing from font(s) DejaVu Sans.\n",
      "\n",
      "c:\\Users\\USER\\anaconda3\\envs\\hi\\lib\\site-packages\\IPython\\core\\pylabtools.py:170: UserWarning:\n",
      "\n",
      "Glyph 46300 (\\N{HANGUL SYLLABLE DEU}) missing from font(s) DejaVu Sans.\n",
      "\n"
     ]
    },
    {
     "data": {
      "image/png": "[encoded data removed]",
      "text/plain": [
       "<Figure size 1200x600 with 1 Axes>"
      ]
     },
     "metadata": {},
     "output_type": "display_data"
    }
   ],
   "source": [
    "plt.figure(figsize=(12, 6))\n",
    "for model in line_df.columns[:5]:  # 상위 5개 모델만 예시\n",
    "    plt.plot(line_df.index, line_df[model], label=model)\n",
    "\n",
    "plt.title(\"차량 모델별 월별 판매 트렌드\")\n",
    "plt.xlabel(\"월\")\n",
    "plt.ylabel(\"판매량\")\n",
    "plt.legend()\n",
    "plt.grid(True)\n",
    "plt.tight_layout()\n",
    "plt.show()"
   ]
  },
  {
   "cell_type": "code",
   "execution_count": 39,
   "metadata": {},
   "outputs": [
    {
     "data": {
      "text/html": [
       "<div>\n",
       "<style scoped>\n",
       "    .dataframe tbody tr th:only-of-type {\n",
       "        vertical-align: middle;\n",
       "    }\n",
       "\n",
       "    .dataframe tbody tr th {\n",
       "        vertical-align: top;\n",
       "    }\n",
       "\n",
       "    .dataframe thead th {\n",
       "        text-align: right;\n",
       "    }\n",
       "</style>\n",
       "<table border=\"1\" class=\"dataframe\">\n",
       "  <thead>\n",
       "    <tr style=\"text-align: right;\">\n",
       "      <th></th>\n",
       "      <th>공장명(국가)</th>\n",
       "      <th>차량 모델</th>\n",
       "      <th>판매 구분</th>\n",
       "      <th>연도</th>\n",
       "      <th>월</th>\n",
       "      <th>판매량</th>\n",
       "      <th>월_숫자</th>\n",
       "      <th>날짜</th>\n",
       "    </tr>\n",
       "  </thead>\n",
       "  <tbody>\n",
       "    <tr>\n",
       "      <th>0</th>\n",
       "      <td>HMI</td>\n",
       "      <td>Santro (AH2)</td>\n",
       "      <td>내수용</td>\n",
       "      <td>2023</td>\n",
       "      <td>1월</td>\n",
       "      <td>0</td>\n",
       "      <td>1</td>\n",
       "      <td>2023-01-01</td>\n",
       "    </tr>\n",
       "    <tr>\n",
       "      <th>1</th>\n",
       "      <td>HMI</td>\n",
       "      <td>Xcent (BA 4DR)</td>\n",
       "      <td>내수용</td>\n",
       "      <td>2023</td>\n",
       "      <td>1월</td>\n",
       "      <td>0</td>\n",
       "      <td>1</td>\n",
       "      <td>2023-01-01</td>\n",
       "    </tr>\n",
       "    <tr>\n",
       "      <th>2</th>\n",
       "      <td>HMI</td>\n",
       "      <td>Aura (AI3 4DR)</td>\n",
       "      <td>내수용</td>\n",
       "      <td>2023</td>\n",
       "      <td>1월</td>\n",
       "      <td>4634</td>\n",
       "      <td>1</td>\n",
       "      <td>2023-01-01</td>\n",
       "    </tr>\n",
       "    <tr>\n",
       "      <th>3</th>\n",
       "      <td>HMI</td>\n",
       "      <td>NIOS (AI3 5DR)</td>\n",
       "      <td>내수용</td>\n",
       "      <td>2023</td>\n",
       "      <td>1월</td>\n",
       "      <td>8760</td>\n",
       "      <td>1</td>\n",
       "      <td>2023-01-01</td>\n",
       "    </tr>\n",
       "    <tr>\n",
       "      <th>4</th>\n",
       "      <td>HMI</td>\n",
       "      <td>i20 (BI3 5DR)</td>\n",
       "      <td>내수용</td>\n",
       "      <td>2023</td>\n",
       "      <td>1월</td>\n",
       "      <td>8185</td>\n",
       "      <td>1</td>\n",
       "      <td>2023-01-01</td>\n",
       "    </tr>\n",
       "    <tr>\n",
       "      <th>...</th>\n",
       "      <td>...</td>\n",
       "      <td>...</td>\n",
       "      <td>...</td>\n",
       "      <td>...</td>\n",
       "      <td>...</td>\n",
       "      <td>...</td>\n",
       "      <td>...</td>\n",
       "      <td>...</td>\n",
       "    </tr>\n",
       "    <tr>\n",
       "      <th>4687</th>\n",
       "      <td>Singapore</td>\n",
       "      <td>IONIQ6 (CE)</td>\n",
       "      <td>내수용</td>\n",
       "      <td>2025</td>\n",
       "      <td>12월</td>\n",
       "      <td>0</td>\n",
       "      <td>12</td>\n",
       "      <td>2025-12-01</td>\n",
       "    </tr>\n",
       "    <tr>\n",
       "      <th>4688</th>\n",
       "      <td>Singapore</td>\n",
       "      <td>IONIQ5 (NE)</td>\n",
       "      <td>수출용</td>\n",
       "      <td>2025</td>\n",
       "      <td>12월</td>\n",
       "      <td>0</td>\n",
       "      <td>12</td>\n",
       "      <td>2025-12-01</td>\n",
       "    </tr>\n",
       "    <tr>\n",
       "      <th>4689</th>\n",
       "      <td>Singapore</td>\n",
       "      <td>IONIQ5 Robotaxi (NE R)</td>\n",
       "      <td>수출용</td>\n",
       "      <td>2025</td>\n",
       "      <td>12월</td>\n",
       "      <td>0</td>\n",
       "      <td>12</td>\n",
       "      <td>2025-12-01</td>\n",
       "    </tr>\n",
       "    <tr>\n",
       "      <th>4690</th>\n",
       "      <td>CKD</td>\n",
       "      <td>PV</td>\n",
       "      <td>합계</td>\n",
       "      <td>2025</td>\n",
       "      <td>12월</td>\n",
       "      <td>0</td>\n",
       "      <td>12</td>\n",
       "      <td>2025-12-01</td>\n",
       "    </tr>\n",
       "    <tr>\n",
       "      <th>4691</th>\n",
       "      <td>CKD</td>\n",
       "      <td>CV</td>\n",
       "      <td>합계</td>\n",
       "      <td>2025</td>\n",
       "      <td>12월</td>\n",
       "      <td>0</td>\n",
       "      <td>12</td>\n",
       "      <td>2025-12-01</td>\n",
       "    </tr>\n",
       "  </tbody>\n",
       "</table>\n",
       "<p>4692 rows × 8 columns</p>\n",
       "</div>"
      ],
      "text/plain": [
       "        공장명(국가)                   차량 모델 판매 구분    연도    월   판매량  월_숫자  \\\n",
       "0           HMI            Santro (AH2)   내수용  2023   1월     0     1   \n",
       "1           HMI          Xcent (BA 4DR)   내수용  2023   1월     0     1   \n",
       "2           HMI          Aura (AI3 4DR)   내수용  2023   1월  4634     1   \n",
       "3           HMI          NIOS (AI3 5DR)   내수용  2023   1월  8760     1   \n",
       "4           HMI           i20 (BI3 5DR)   내수용  2023   1월  8185     1   \n",
       "...         ...                     ...   ...   ...  ...   ...   ...   \n",
       "4687  Singapore             IONIQ6 (CE)   내수용  2025  12월     0    12   \n",
       "4688  Singapore             IONIQ5 (NE)   수출용  2025  12월     0    12   \n",
       "4689  Singapore  IONIQ5 Robotaxi (NE R)   수출용  2025  12월     0    12   \n",
       "4690        CKD                      PV    합계  2025  12월     0    12   \n",
       "4691        CKD                      CV    합계  2025  12월     0    12   \n",
       "\n",
       "             날짜  \n",
       "0    2023-01-01  \n",
       "1    2023-01-01  \n",
       "2    2023-01-01  \n",
       "3    2023-01-01  \n",
       "4    2023-01-01  \n",
       "...         ...  \n",
       "4687 2025-12-01  \n",
       "4688 2025-12-01  \n",
       "4689 2025-12-01  \n",
       "4690 2025-12-01  \n",
       "4691 2025-12-01  \n",
       "\n",
       "[4692 rows x 8 columns]"
      ]
     },
     "execution_count": 39,
     "metadata": {},
     "output_type": "execute_result"
    }
   ],
   "source": [
    "df_melted"
   ]
  },
  {
   "cell_type": "code",
   "execution_count": 41,
   "metadata": {},
   "outputs": [
    {
     "data": {
      "text/html": [
       "<div>\n",
       "<style scoped>\n",
       "    .dataframe tbody tr th:only-of-type {\n",
       "        vertical-align: middle;\n",
       "    }\n",
       "\n",
       "    .dataframe tbody tr th {\n",
       "        vertical-align: top;\n",
       "    }\n",
       "\n",
       "    .dataframe thead th {\n",
       "        text-align: right;\n",
       "    }\n",
       "</style>\n",
       "<table border=\"1\" class=\"dataframe\">\n",
       "  <thead>\n",
       "    <tr style=\"text-align: right;\">\n",
       "      <th>판매 구분</th>\n",
       "      <th>내수용</th>\n",
       "      <th>수출용</th>\n",
       "      <th>합계</th>\n",
       "    </tr>\n",
       "    <tr>\n",
       "      <th>공장명(국가)</th>\n",
       "      <th></th>\n",
       "      <th></th>\n",
       "      <th></th>\n",
       "    </tr>\n",
       "  </thead>\n",
       "  <tbody>\n",
       "    <tr>\n",
       "      <th>BHMC</th>\n",
       "      <td>378149</td>\n",
       "      <td>50872</td>\n",
       "      <td>0</td>\n",
       "    </tr>\n",
       "    <tr>\n",
       "      <th>CKD</th>\n",
       "      <td>0</td>\n",
       "      <td>0</td>\n",
       "      <td>114519</td>\n",
       "    </tr>\n",
       "    <tr>\n",
       "      <th>HAOS</th>\n",
       "      <td>85604</td>\n",
       "      <td>427100</td>\n",
       "      <td>0</td>\n",
       "    </tr>\n",
       "    <tr>\n",
       "      <th>HMB</th>\n",
       "      <td>395536</td>\n",
       "      <td>34739</td>\n",
       "      <td>0</td>\n",
       "    </tr>\n",
       "    <tr>\n",
       "      <th>HMGMA</th>\n",
       "      <td>2629</td>\n",
       "      <td>0</td>\n",
       "      <td>0</td>\n",
       "    </tr>\n",
       "    <tr>\n",
       "      <th>HMI</th>\n",
       "      <td>1261534</td>\n",
       "      <td>333961</td>\n",
       "      <td>0</td>\n",
       "    </tr>\n",
       "    <tr>\n",
       "      <th>HMMA</th>\n",
       "      <td>705593</td>\n",
       "      <td>41639</td>\n",
       "      <td>0</td>\n",
       "    </tr>\n",
       "    <tr>\n",
       "      <th>HMMC</th>\n",
       "      <td>0</td>\n",
       "      <td>689355</td>\n",
       "      <td>0</td>\n",
       "    </tr>\n",
       "    <tr>\n",
       "      <th>HMMI</th>\n",
       "      <td>52522</td>\n",
       "      <td>119829</td>\n",
       "      <td>0</td>\n",
       "    </tr>\n",
       "    <tr>\n",
       "      <th>HMMR</th>\n",
       "      <td>0</td>\n",
       "      <td>0</td>\n",
       "      <td>0</td>\n",
       "    </tr>\n",
       "    <tr>\n",
       "      <th>HTBC</th>\n",
       "      <td>1760</td>\n",
       "      <td>2481</td>\n",
       "      <td>0</td>\n",
       "    </tr>\n",
       "    <tr>\n",
       "      <th>KMX</th>\n",
       "      <td>0</td>\n",
       "      <td>18490</td>\n",
       "      <td>0</td>\n",
       "    </tr>\n",
       "    <tr>\n",
       "      <th>Others</th>\n",
       "      <td>0</td>\n",
       "      <td>0</td>\n",
       "      <td>0</td>\n",
       "    </tr>\n",
       "    <tr>\n",
       "      <th>Russia</th>\n",
       "      <td>0</td>\n",
       "      <td>0</td>\n",
       "      <td>0</td>\n",
       "    </tr>\n",
       "    <tr>\n",
       "      <th>Singapore</th>\n",
       "      <td>504</td>\n",
       "      <td>529</td>\n",
       "      <td>0</td>\n",
       "    </tr>\n",
       "    <tr>\n",
       "      <th>Vietnam</th>\n",
       "      <td>109676</td>\n",
       "      <td>493</td>\n",
       "      <td>2614</td>\n",
       "    </tr>\n",
       "  </tbody>\n",
       "</table>\n",
       "</div>"
      ],
      "text/plain": [
       "판매 구분          내수용     수출용      합계\n",
       "공장명(국가)                           \n",
       "BHMC        378149   50872       0\n",
       "CKD              0       0  114519\n",
       "HAOS         85604  427100       0\n",
       "HMB         395536   34739       0\n",
       "HMGMA         2629       0       0\n",
       "HMI        1261534  333961       0\n",
       "HMMA        705593   41639       0\n",
       "HMMC             0  689355       0\n",
       "HMMI         52522  119829       0\n",
       "HMMR             0       0       0\n",
       "HTBC          1760    2481       0\n",
       "KMX              0   18490       0\n",
       "Others           0       0       0\n",
       "Russia           0       0       0\n",
       "Singapore      504     529       0\n",
       "Vietnam     109676     493    2614"
      ]
     },
     "execution_count": 41,
     "metadata": {},
     "output_type": "execute_result"
    }
   ],
   "source": [
    "df_melted.pivot_table(index='공장명(국가)', columns='판매 구분', values='판매량', aggfunc='sum', fill_value=0)"
   ]
  },
  {
   "cell_type": "code",
   "execution_count": null,
   "metadata": {},
   "outputs": [],
   "source": []
  }
 ],
 "metadata": {
  "kernelspec": {
   "display_name": "hi",
   "language": "python",
   "name": "python3"
  },
  "language_info": {
   "codemirror_mode": {
    "name": "ipython",
    "version": 3
   },
   "file_extension": ".py",
   "mimetype": "text/x-python",
   "name": "python",
   "nbconvert_exporter": "python",
   "pygments_lexer": "ipython3",
   "version": "3.10.16"
  }
 },
 "nbformat": 4,
 "nbformat_minor": 2
}
