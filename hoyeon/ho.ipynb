{
 "cells": [
  {
   "cell_type": "code",
   "execution_count": 46,
   "metadata": {},
   "outputs": [
    {
     "name": "stdout",
     "output_type": "stream",
     "text": [
      "[LightGBM] [Info] Auto-choosing row-wise multi-threading, the overhead of testing was 0.010844 seconds.\n",
      "You can set `force_row_wise=true` to remove the overhead.\n",
      "And if memory is not enough, you can set `force_col_wise=true`.\n",
      "[LightGBM] [Info] Total Bins 798\n",
      "[LightGBM] [Info] Number of data points in the train set: 45871, number of used features: 92\n",
      "[LightGBM] [Info] Start training from score 945.542303\n"
     ]
    },
    {
     "name": "stderr",
     "output_type": "stream",
     "text": [
      "c:\\Users\\vhzkf\\anaconda3\\envs\\hi\\lib\\site-packages\\sklearn\\utils\\validation.py:2739: UserWarning: X does not have valid feature names, but LGBMRegressor was fitted with feature names\n",
      "  warnings.warn(\n"
     ]
    },
    {
     "name": "stdout",
     "output_type": "stream",
     "text": [
      "[LightGBM] [Info] Auto-choosing row-wise multi-threading, the overhead of testing was 0.009976 seconds.\n",
      "You can set `force_row_wise=true` to remove the overhead.\n",
      "And if memory is not enough, you can set `force_col_wise=true`.\n",
      "[LightGBM] [Info] Total Bins 798\n",
      "[LightGBM] [Info] Number of data points in the train set: 47111, number of used features: 92\n",
      "[LightGBM] [Info] Start training from score 944.480015\n"
     ]
    },
    {
     "name": "stderr",
     "output_type": "stream",
     "text": [
      "c:\\Users\\vhzkf\\anaconda3\\envs\\hi\\lib\\site-packages\\sklearn\\utils\\validation.py:2739: UserWarning: X does not have valid feature names, but LGBMRegressor was fitted with feature names\n",
      "  warnings.warn(\n"
     ]
    },
    {
     "name": "stdout",
     "output_type": "stream",
     "text": [
      "[LightGBM] [Info] Auto-choosing row-wise multi-threading, the overhead of testing was 0.008829 seconds.\n",
      "You can set `force_row_wise=true` to remove the overhead.\n",
      "And if memory is not enough, you can set `force_col_wise=true`.\n",
      "[LightGBM] [Info] Total Bins 798\n",
      "[LightGBM] [Info] Number of data points in the train set: 48351, number of used features: 92\n",
      "[LightGBM] [Info] Start training from score 943.099853\n"
     ]
    },
    {
     "name": "stderr",
     "output_type": "stream",
     "text": [
      "c:\\Users\\vhzkf\\anaconda3\\envs\\hi\\lib\\site-packages\\sklearn\\utils\\validation.py:2739: UserWarning: X does not have valid feature names, but LGBMRegressor was fitted with feature names\n",
      "  warnings.warn(\n"
     ]
    },
    {
     "name": "stdout",
     "output_type": "stream",
     "text": [
      "[LightGBM] [Info] Auto-choosing row-wise multi-threading, the overhead of testing was 0.008511 seconds.\n",
      "You can set `force_row_wise=true` to remove the overhead.\n",
      "And if memory is not enough, you can set `force_col_wise=true`.\n",
      "[LightGBM] [Info] Total Bins 798\n",
      "[LightGBM] [Info] Number of data points in the train set: 49591, number of used features: 92\n",
      "[LightGBM] [Info] Start training from score 942.108850\n"
     ]
    },
    {
     "name": "stderr",
     "output_type": "stream",
     "text": [
      "c:\\Users\\vhzkf\\anaconda3\\envs\\hi\\lib\\site-packages\\sklearn\\utils\\validation.py:2739: UserWarning: X does not have valid feature names, but LGBMRegressor was fitted with feature names\n",
      "  warnings.warn(\n"
     ]
    },
    {
     "name": "stdout",
     "output_type": "stream",
     "text": [
      "[LightGBM] [Info] Auto-choosing row-wise multi-threading, the overhead of testing was 0.009268 seconds.\n",
      "You can set `force_row_wise=true` to remove the overhead.\n",
      "And if memory is not enough, you can set `force_col_wise=true`.\n",
      "[LightGBM] [Info] Total Bins 798\n",
      "[LightGBM] [Info] Number of data points in the train set: 50831, number of used features: 92\n",
      "[LightGBM] [Info] Start training from score 941.080659\n"
     ]
    },
    {
     "name": "stderr",
     "output_type": "stream",
     "text": [
      "c:\\Users\\vhzkf\\anaconda3\\envs\\hi\\lib\\site-packages\\sklearn\\utils\\validation.py:2739: UserWarning: X does not have valid feature names, but LGBMRegressor was fitted with feature names\n",
      "  warnings.warn(\n"
     ]
    },
    {
     "name": "stdout",
     "output_type": "stream",
     "text": [
      "[LightGBM] [Info] Auto-choosing row-wise multi-threading, the overhead of testing was 0.009967 seconds.\n",
      "You can set `force_row_wise=true` to remove the overhead.\n",
      "And if memory is not enough, you can set `force_col_wise=true`.\n",
      "[LightGBM] [Info] Total Bins 798\n",
      "[LightGBM] [Info] Number of data points in the train set: 52071, number of used features: 92\n",
      "[LightGBM] [Info] Start training from score 944.844328\n"
     ]
    },
    {
     "name": "stderr",
     "output_type": "stream",
     "text": [
      "c:\\Users\\vhzkf\\anaconda3\\envs\\hi\\lib\\site-packages\\sklearn\\utils\\validation.py:2739: UserWarning: X does not have valid feature names, but LGBMRegressor was fitted with feature names\n",
      "  warnings.warn(\n"
     ]
    },
    {
     "name": "stdout",
     "output_type": "stream",
     "text": [
      "[LightGBM] [Info] Auto-choosing row-wise multi-threading, the overhead of testing was 0.005812 seconds.\n",
      "You can set `force_row_wise=true` to remove the overhead.\n",
      "And if memory is not enough, you can set `force_col_wise=true`.\n",
      "[LightGBM] [Info] Total Bins 798\n",
      "[LightGBM] [Info] Number of data points in the train set: 53311, number of used features: 92\n",
      "[LightGBM] [Info] Start training from score 948.205323\n"
     ]
    },
    {
     "name": "stderr",
     "output_type": "stream",
     "text": [
      "c:\\Users\\vhzkf\\anaconda3\\envs\\hi\\lib\\site-packages\\sklearn\\utils\\validation.py:2739: UserWarning: X does not have valid feature names, but LGBMRegressor was fitted with feature names\n",
      "  warnings.warn(\n"
     ]
    },
    {
     "name": "stdout",
     "output_type": "stream",
     "text": [
      "[LightGBM] [Info] Auto-choosing row-wise multi-threading, the overhead of testing was 0.010071 seconds.\n",
      "You can set `force_row_wise=true` to remove the overhead.\n",
      "And if memory is not enough, you can set `force_col_wise=true`.\n",
      "[LightGBM] [Info] Total Bins 798\n",
      "[LightGBM] [Info] Number of data points in the train set: 54551, number of used features: 92\n",
      "[LightGBM] [Info] Start training from score 951.788217\n"
     ]
    },
    {
     "name": "stderr",
     "output_type": "stream",
     "text": [
      "c:\\Users\\vhzkf\\anaconda3\\envs\\hi\\lib\\site-packages\\sklearn\\utils\\validation.py:2739: UserWarning: X does not have valid feature names, but LGBMRegressor was fitted with feature names\n",
      "  warnings.warn(\n"
     ]
    },
    {
     "name": "stdout",
     "output_type": "stream",
     "text": [
      "[LightGBM] [Info] Auto-choosing row-wise multi-threading, the overhead of testing was 0.008150 seconds.\n",
      "You can set `force_row_wise=true` to remove the overhead.\n",
      "And if memory is not enough, you can set `force_col_wise=true`.\n",
      "[LightGBM] [Info] Total Bins 798\n",
      "[LightGBM] [Info] Number of data points in the train set: 55791, number of used features: 92\n",
      "[LightGBM] [Info] Start training from score 954.770572\n"
     ]
    },
    {
     "name": "stderr",
     "output_type": "stream",
     "text": [
      "c:\\Users\\vhzkf\\anaconda3\\envs\\hi\\lib\\site-packages\\sklearn\\utils\\validation.py:2739: UserWarning: X does not have valid feature names, but LGBMRegressor was fitted with feature names\n",
      "  warnings.warn(\n"
     ]
    },
    {
     "name": "stdout",
     "output_type": "stream",
     "text": [
      "[LightGBM] [Info] Auto-choosing row-wise multi-threading, the overhead of testing was 0.010517 seconds.\n",
      "You can set `force_row_wise=true` to remove the overhead.\n",
      "And if memory is not enough, you can set `force_col_wise=true`.\n",
      "[LightGBM] [Info] Total Bins 798\n",
      "[LightGBM] [Info] Number of data points in the train set: 57031, number of used features: 92\n",
      "[LightGBM] [Info] Start training from score 953.550139\n"
     ]
    },
    {
     "name": "stderr",
     "output_type": "stream",
     "text": [
      "c:\\Users\\vhzkf\\anaconda3\\envs\\hi\\lib\\site-packages\\sklearn\\utils\\validation.py:2739: UserWarning: X does not have valid feature names, but LGBMRegressor was fitted with feature names\n",
      "  warnings.warn(\n"
     ]
    },
    {
     "name": "stdout",
     "output_type": "stream",
     "text": [
      "[LightGBM] [Info] Auto-choosing row-wise multi-threading, the overhead of testing was 0.010132 seconds.\n",
      "You can set `force_row_wise=true` to remove the overhead.\n",
      "And if memory is not enough, you can set `force_col_wise=true`.\n",
      "[LightGBM] [Info] Total Bins 798\n",
      "[LightGBM] [Info] Number of data points in the train set: 58271, number of used features: 92\n",
      "[LightGBM] [Info] Start training from score 952.372467\n",
      "          기준월           MSE        R2\n",
      "0  2024-02-01  43615.825183  0.852173\n",
      "1  2024-03-01  45359.577812  0.840013\n",
      "2  2024-04-01  45025.351584  0.844793\n",
      "3  2024-05-01  43326.240788  0.850988\n",
      "4  2024-06-01  47363.615320  0.841030\n",
      "5  2024-07-01  47378.854495  0.839000\n",
      "6  2024-08-01  45024.081353  0.840830\n",
      "7  2024-09-01  49558.855106  0.834018\n",
      "8  2024-10-01  44431.385972  0.852108\n",
      "9  2024-11-01  43255.666191  0.852586\n",
      "10 2024-12-01  41316.761814  0.850522\n",
      "\n",
      "✅ 전체 평균 성능\n",
      "평균 MSE: 45059.65596535369\n",
      "평균 R²: 0.8452782406488012\n"
     ]
    },
    {
     "name": "stderr",
     "output_type": "stream",
     "text": [
      "c:\\Users\\vhzkf\\anaconda3\\envs\\hi\\lib\\site-packages\\sklearn\\utils\\validation.py:2739: UserWarning: X does not have valid feature names, but LGBMRegressor was fitted with feature names\n",
      "  warnings.warn(\n"
     ]
    }
   ],
   "source": [
    "import pandas as pd\n",
    "import numpy as np\n",
    "from lightgbm import LGBMRegressor\n",
    "from sklearn.metrics import mean_squared_error, r2_score\n",
    "from sklearn.preprocessing import StandardScaler\n",
    "\n",
    "# 데이터 불러오기 및 변환 (생략 가능)\n",
    "# Update the file path to the correct location or ensure the file exists\n",
    "df1 = pd.read_csv(r\"D:\\back_office-main\\hoyeon\\현대.csv\")\n",
    "id_vars = ['국가명', '연도', '기후대', 'GDP', '차종', '차량 구분']\n",
    "month_cols = [f\"{i}월\" for i in range(1, 13)]\n",
    "df_long = pd.melt(df1, id_vars=id_vars, value_vars=month_cols, \n",
    "                  var_name='월', value_name='수출량')\n",
    "df_long['월'] = df_long['월'].str.replace('월', '').astype(int)\n",
    "df_long['날짜'] = pd.to_datetime(df_long['연도'].astype(str) + '-' + df_long['월'].astype(str) + '-01')\n",
    "df_long = df_long.sort_values(by=['국가명', '날짜'])\n",
    "\n",
    "# 시차/타겟 생성\n",
    "df_long['전월_수출량'] = df_long.groupby('국가명')['수출량'].shift(1)\n",
    "df_long['다음달_수출량'] = df_long.groupby('국가명')['수출량'].shift(-1)\n",
    "df_model = df_long.dropna(subset=['전월_수출량', '다음달_수출량']).copy()\n",
    "\n",
    "# 특성 정의\n",
    "features = ['수출량', '전월_수출량', '연도', '월', 'GDP', '국가명', '기후대', '차종', '차량 구분']\n",
    "target = '다음달_수출량'\n",
    "categorical_features = ['국가명', '기후대', '차종', '차량 구분']\n",
    "\n",
    "# 결과 저장용\n",
    "results = []\n",
    "\n",
    "# 전체 날짜 목록\n",
    "unique_dates = sorted(df_model['날짜'].unique())\n",
    "\n",
    "# 최소 12개월 학습 후 시작\n",
    "for i in range(12, len(unique_dates) - 1):\n",
    "    train_end = unique_dates[i]\n",
    "    test_month = unique_dates[i + 1]\n",
    "    \n",
    "    # 학습 데이터: 현재 시점까지\n",
    "    train_data = df_model[df_model['날짜'] <= train_end]\n",
    "    test_data = df_model[df_model['날짜'] == test_month]\n",
    "    \n",
    "    # 특성 & 타겟\n",
    "    X_train = train_data[features]\n",
    "    y_train = train_data[target]\n",
    "    X_test = test_data[features]\n",
    "    y_test = test_data[target]\n",
    "\n",
    "    # 인코딩\n",
    "    X_train = pd.get_dummies(X_train, columns=categorical_features)\n",
    "    X_test = pd.get_dummies(X_test, columns=categorical_features)\n",
    "\n",
    "    # 열 정렬 맞추기\n",
    "    X_test = X_test.reindex(columns=X_train.columns, fill_value=0)\n",
    "\n",
    "    # 스케일링\n",
    "    scaler = StandardScaler()\n",
    "    X_train_scaled = scaler.fit_transform(X_train)\n",
    "    X_test_scaled = scaler.transform(X_test)\n",
    "\n",
    "    # 모델 학습 및 예측\n",
    "    model = LGBMRegressor()\n",
    "    model.fit(X_train_scaled, y_train)\n",
    "    y_pred = model.predict(X_test_scaled)\n",
    "\n",
    "    # 성능 측정\n",
    "    mse = mean_squared_error(y_test, y_pred)\n",
    "    r2 = r2_score(y_test, y_pred)\n",
    "\n",
    "    # 결과 저장\n",
    "    results.append({\n",
    "        '기준월': test_month,\n",
    "        'MSE': mse,\n",
    "        'R2': r2\n",
    "    })\n",
    "\n",
    "# 결과 DataFrame\n",
    "results_df = pd.DataFrame(results)\n",
    "print(results_df)\n",
    "\n",
    "# 평균 성능\n",
    "print(\"\\n✅ 전체 평균 성능\")\n",
    "print(\"평균 MSE:\", results_df['MSE'].mean())\n",
    "print(\"평균 R²:\", results_df['R2'].mean())\n"
   ]
  },
  {
   "cell_type": "code",
   "execution_count": 47,
   "metadata": {},
   "outputs": [
    {
     "data": {
      "text/plain": [
       "['h_model_columns.pkl']"
      ]
     },
     "execution_count": 47,
     "metadata": {},
     "output_type": "execute_result"
    }
   ],
   "source": [
    "import joblib\n",
    "\n",
    "# 모델 저장\n",
    "joblib.dump(model, \"h_lgbm_model.pkl\")\n",
    "\n",
    "# 스케일러 저장\n",
    "joblib.dump(scaler, \"h_scaler.pkl\")\n",
    "# 모델 저장\n",
    "joblib.dump(X_train.columns.tolist(), \"h_model_columns.pkl\")\n",
    "\n",
    "\n"
   ]
  },
  {
   "cell_type": "code",
   "execution_count": null,
   "metadata": {},
   "outputs": [],
   "source": []
  },
  {
   "cell_type": "code",
   "execution_count": 2,
   "metadata": {},
   "outputs": [],
   "source": [
    "import pandas as pd\n",
    "\n",
    "df1 = pd.read_csv(r\"D:\\back_office-main\\hoyeon\\현대_기아.csv\")"
   ]
  },
  {
   "cell_type": "code",
   "execution_count": 3,
   "metadata": {},
   "outputs": [
    {
     "data": {
      "text/plain": [
       "array(['Hyundai'], dtype=object)"
      ]
     },
     "execution_count": 3,
     "metadata": {},
     "output_type": "execute_result"
    }
   ],
   "source": [
    "df1[\"차량 브랜드\"].unique()"
   ]
  },
  {
   "cell_type": "code",
   "execution_count": 41,
   "metadata": {},
   "outputs": [],
   "source": [
    "# Filter out rows where the \"차량 브랜드\" column is 'kia'\n",
    "df1 = df1[df1[\"차량 브랜드\"] != 'Kia']"
   ]
  },
  {
   "cell_type": "code",
   "execution_count": 5,
   "metadata": {},
   "outputs": [],
   "source": [
    "df1 = df1.drop(columns=[\"차량 브랜드\"])"
   ]
  },
  {
   "cell_type": "code",
   "execution_count": 44,
   "metadata": {},
   "outputs": [
    {
     "data": {
      "text/plain": [
       "array(['온대', '한랭', '열대', '건조'], dtype=object)"
      ]
     },
     "execution_count": 44,
     "metadata": {},
     "output_type": "execute_result"
    }
   ],
   "source": [
    "df1['기후대'].unique()"
   ]
  },
  {
   "cell_type": "code",
   "execution_count": 7,
   "metadata": {},
   "outputs": [],
   "source": [
    "import os\n",
    "\n",
    "# Ensure the directory exists\n",
    "output_dir = r\"D:\\back_office-main\\hoyeon\"\n",
    "os.makedirs(output_dir, exist_ok=True)\n",
    "\n",
    "# Save the file\n",
    "df1.to_csv(os.path.join(output_dir, \"현대_기아.csv\"))"
   ]
  },
  {
   "cell_type": "code",
   "execution_count": 19,
   "metadata": {},
   "outputs": [
    {
     "data": {
      "text/plain": [
       "array(['US', 'Canada', 'Mexico', 'EU+EFTA', 'E.Europe/CIS',\n",
       "       'Latin America', 'Middle East/Africa', 'Asia / Pacific', 'China',\n",
       "       'India'], dtype=object)"
      ]
     },
     "execution_count": 19,
     "metadata": {},
     "output_type": "execute_result"
    }
   ],
   "source": [
    "df1['국가명'].unique()"
   ]
  },
  {
   "cell_type": "code",
   "execution_count": 18,
   "metadata": {},
   "outputs": [
    {
     "data": {
      "text/plain": [
       "array(['US', 'Canada', 'Mexico', 'EU+EFTA', 'E.Europe/CIS',\n",
       "       'Latin America', 'Middle East/Africa', 'Asia / Pacific', 'China',\n",
       "       'India'], dtype=object)"
      ]
     },
     "execution_count": 18,
     "metadata": {},
     "output_type": "execute_result"
    }
   ],
   "source": [
    "# Load the dataframe\n",
    "df = pd.read_csv(r\"D:\\back_office-main\\hoyeon\\기아.csv\")\n",
    "\n",
    "# Get unique values of the '차종' column\n",
    "df['국가명'].unique()"
   ]
  },
  {
   "cell_type": "code",
   "execution_count": 34,
   "metadata": {},
   "outputs": [],
   "source": [
    "reverse_map = {\n",
    "    'US': 'US',\n",
    "    'Canada': 'Canada',\n",
    "    'Mexico': 'Mexico',\n",
    "    'EU+EFTA': 'EU+EFTA',\n",
    "    'E.Europe/CIS': 'E.Europe/CIS',\n",
    "    'Latin America': 'Latin America',\n",
    "    'Middle East/Africa': 'Middle East/Africa',\n",
    "    'Asia / Pacific': 'Asia / Pacific',\n",
    "    'China': 'Asia / Pacific',\n",
    "    'India': 'Asia / Pacific'\n",
    "}\n",
    "\n",
    "# 매핑 적용\n",
    "df1['국가명'] = df['국가명'].map(reverse_map)"
   ]
  },
  {
   "cell_type": "code",
   "execution_count": 39,
   "metadata": {},
   "outputs": [],
   "source": [
    "df1.to_csv(r\"D:\\back_office-main\\hoyeon\\현대.csv\")"
   ]
  },
  {
   "cell_type": "code",
   "execution_count": 42,
   "metadata": {},
   "outputs": [
    {
     "data": {
      "text/plain": [
       "array(['온대', '한랭', '열대', '건조'], dtype=object)"
      ]
     },
     "execution_count": 42,
     "metadata": {},
     "output_type": "execute_result"
    }
   ],
   "source": [
    "df1['기후대'].unique()"
   ]
  }
 ],
 "metadata": {
  "kernelspec": {
   "display_name": "hi",
   "language": "python",
   "name": "python3"
  },
  "language_info": {
   "codemirror_mode": {
    "name": "ipython",
    "version": 3
   },
   "file_extension": ".py",
   "mimetype": "text/x-python",
   "name": "python",
   "nbconvert_exporter": "python",
   "pygments_lexer": "ipython3",
   "version": "3.10.8"
  }
 },
 "nbformat": 4,
 "nbformat_minor": 2
}
