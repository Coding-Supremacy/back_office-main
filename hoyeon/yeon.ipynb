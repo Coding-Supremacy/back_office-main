{
 "cells": [
  {
   "cell_type": "code",
   "execution_count": null,
   "metadata": {},
   "outputs": [],
   "source": [
    "import pandas as pd"
   ]
  },
  {
   "cell_type": "code",
   "execution_count": null,
   "metadata": {},
   "outputs": [
    {
     "data": {
      "text/plain": [
       "         국가명    1월    2월    3월    4월  ...            차종   GDP  대표 차량 구분  차량 구분.1  차종 구분\n",
       "0        동유럽   102   125   145   167  ...           i20  25.0       소형차      소형차    소형차\n",
       "1        동유럽   234   288   335   383  ...        Mighty  25.0      상업용차     상업용차   상업용차\n",
       "2        동유럽   309   381   442   506  ...        Tucson  25.0       SUV      SUV    SUV\n",
       "3        동유럽   413   508   590   675  ...            PV  25.0       소형차      소형차    소형차\n",
       "4        동유럽  1042  1283  1489  1706  ...       GV70 EV  25.0       전기차      전기차    전기차\n",
       "..       ...   ...   ...   ...   ...  ...           ...   ...       ...      ...    ...\n",
       "404  중동·아프리카   455  1147   564  1452  ...  Santa Fe HEV  20.0       전기차      전기차    전기차\n",
       "405  중동·아프리카     1     2     1     3  ...        Ioniq5  20.0       전기차      전기차    전기차\n",
       "406  중동·아프리카   670  1687   829  2135  ...        Tucson  20.0       SUV      SUV    SUV\n",
       "407  중동·아프리카   686  1729   850  2188  ...        IONIQ5  20.0       전기차      전기차    전기차\n",
       "408  중동·아프리카   209   526   259   666  ...          NX4m  20.0       소형차      소형차    소형차\n",
       "\n",
       "[409 rows x 23 columns]\n"
      ]
     },
     "metadata": {},
     "output_type": "display_data"
    }
   ],
   "source": [
    "df=pd.read_csv('hoyeon/현대1.csv')"
   ]
  },
  {
   "cell_type": "code",
   "execution_count": null,
   "metadata": {},
   "outputs": [
    {
     "data": {
      "text/plain": [
       "         1월      2월      3월      4월  ...      9월     10월     11월     12월\n",
       "0     153.0   187.5   217.5   250.5  ...   201.0   210.0   234.0   367.5\n",
       "1     351.0   432.0   502.5   574.5  ...   463.5   484.5   537.0   844.5\n",
       "2     463.5   571.5   663.0   759.0  ...   612.0   639.0   709.5  1114.5\n",
       "3     619.5   762.0   885.0  1012.5  ...   817.5   853.5   946.5  1488.0\n",
       "4    1563.0  1924.5  2233.5  2559.0  ...  2064.0  2154.0  2389.5  3757.5\n",
       "..      ...     ...     ...     ...  ...     ...     ...     ...     ...\n",
       "404   682.5  1720.5   846.0  2178.0  ...  1734.0  1933.5  1041.0  2226.0\n",
       "405     1.5     3.0     1.5     4.5  ...     3.0     4.5     1.5     4.5\n",
       "406  1005.0  2530.5  1243.5  3202.5  ...  2551.5  2844.0  1530.0  3274.5\n",
       "407  1029.0  2593.5  1275.0  3282.0  ...  2614.5  2914.5  1569.0  3355.5\n",
       "408   313.5   789.0   388.5   999.0  ...   795.0   886.5   477.0  1021.5\n",
       "\n",
       "[409 rows x 12 columns]\n"
      ]
     },
     "metadata": {},
     "output_type": "display_data"
    }
   ],
   "source": [
    "import numpy as np\n",
    "\n",
    "# 월별 컬럼 리스트\n",
    "month_cols = ['1월', '2월', '3월', '4월', '5월', '6월',\n",
    "              '7월', '8월', '9월', '10월', '11월', '12월']\n",
    "\n",
    "# 월별 데이터 2.5배 하고, 소수점 버린 후 정수형 변환\n",
    "df.loc[:, month_cols] = np.floor(df.loc[:, month_cols] * 1.3).astype(int)\n",
    "\n",
    "# 총수출량 다시 계산\n",
    "df['총수출량'] = df[month_cols].sum(axis=1)\n"
   ]
  },
  {
   "cell_type": "code",
   "execution_count": null,
   "metadata": {},
   "outputs": [],
   "source": [
    "import numpy as np\n",
    "\n",
    "# 랜덤 배수 생성 (예: 각 행마다 5.0 ~ 7.0 사이의 난수)\n",
    "multipliers = np.random.uniform(3.0, 4.0, size=len(df))\n",
    "\n",
    "# 월별 수치에 행별 배수 적용 후 소수점 버리고 정수로 변환ㅠㅠ\n",
    "for i, col in enumerate(month_cols):\n",
    "    df[col] = np.floor(df[col] * multipliers).astype(int)\n",
    "\n",
    "# 총수출량 다시 계산\n",
    "df['총수출량'] = df[month_cols].sum(axis=1)\n"
   ]
  },
  {
   "cell_type": "code",
   "execution_count": null,
   "metadata": {},
   "outputs": [],
   "source": [
    "import numpy as np\n",
    "\n",
    "# 온대를 제외한 행의 인덱스 추출\n",
    "non_temperate_idx = df[df['기후대'] != '온대'].index\n",
    "\n",
    "# 각 해당 행마다 랜덤 배수 (예: 5.0 ~ 7.0 사이)\n",
    "multipliers = np.random.uniform(5.0, 7.0, size=len(non_temperate_idx))\n",
    "\n",
    "# 해당 행들에만 배수 적용\n",
    "for idx, mult in zip(non_temperate_idx, multipliers):\n",
    "    df.loc[idx, month_cols] = np.floor(df.loc[idx, month_cols] * mult).astype(int)\n",
    "\n",
    "# 총수출량 다시 계산\n",
    "df['총수출량'] = df[month_cols].sum(axis=1)\n"
   ]
  },
  {
   "cell_type": "code",
   "execution_count": null,
   "metadata": {},
   "outputs": [],
   "source": [
    "import numpy as np\n",
    "\n",
    "# '온대' 기후대인 행만 선택\n",
    "temperate_idx = df[df['기후대'] == '온대'].index\n",
    "\n",
    "# 해당 행 수만큼 배수 생성 (5.0 ~ 7.0 사이 난수)\n",
    "multipliers = np.random.uniform(5.0, .0, size=len(temperate_idx))\n",
    "\n",
    "# 각 '온대' 행에 배수 적용\n",
    "for idx, mult in zip(temperate_idx, multipliers):\n",
    "    df.loc[idx, month_cols] = np.floor(df.loc[idx, month_cols] * mult).astype(int)\n",
    "\n",
    "# 총수출량 다시 계산\n",
    "df['총수출량'] = df[month_cols].sum(axis=1)\n"
   ]
  },
  {
   "cell_type": "code",
   "execution_count": null,
   "metadata": {},
   "outputs": [],
   "source": [
    "# '온대' 기후대인 행 인덱스 추출\n",
    "temperate_idx = df[df['기후대'] == '온대'].index\n",
    "\n",
    "# 0.4배 증가 (즉, 1.4배 곱하고 소수점 버림)\n",
    "for idx in temperate_idx:\n",
    "    df.loc[idx, month_cols] = np.floor(df.loc[idx, month_cols] * 1.4).astype(int)\n",
    "\n",
    "# 총수출량 다시 계산\n",
    "df['총수출량'] = df[month_cols].sum(axis=1)\n"
   ]
  },
  {
   "cell_type": "code",
   "execution_count": null,
   "metadata": {},
   "outputs": [
    {
     "data": {
      "text/plain": [
       "Traceback (most recent call last):\n",
       "  File \"c:\\Users\\vhzkf\\.vscode\\extensions\\ms-python.python-2025.2.0-win32-x64\\python_files\\python_server.py\", line 133, in exec_user_input\n",
       "    retval = callable_(user_input, user_globals)\n",
       "  File \"<string>\", line 1, in <module>\n",
       "  File \"C:\\Users\\vhzkf\\anaconda3\\envs\\hi\\lib\\site-packages\\pandas\\util\\_decorators.py\", line 333, in wrapper\n",
       "    return func(*args, **kwargs)\n",
       "  File \"C:\\Users\\vhzkf\\anaconda3\\envs\\hi\\lib\\site-packages\\pandas\\core\\generic.py\", line 3967, in to_csv\n",
       "    return DataFrameRenderer(formatter).to_csv(\n",
       "  File \"C:\\Users\\vhzkf\\anaconda3\\envs\\hi\\lib\\site-packages\\pandas\\io\\formats\\format.py\", line 1014, in to_csv\n",
       "    csv_formatter.save()\n",
       "  File \"C:\\Users\\vhzkf\\anaconda3\\envs\\hi\\lib\\site-packages\\pandas\\io\\formats\\csvs.py\", line 251, in save\n",
       "    with get_handle(\n",
       "  File \"C:\\Users\\vhzkf\\anaconda3\\envs\\hi\\lib\\site-packages\\pandas\\io\\common.py\", line 873, in get_handle\n",
       "    handle = open(\n",
       "PermissionError: [Errno 13] Permission denied: 'hoyeon/현대1.csv'\n",
       "\n"
      ]
     },
     "metadata": {},
     "output_type": "display_data"
    }
   ],
   "source": [
    "df.to_csv('hoyeon/현대1.csv', index=False, encoding='utf-8-sig')"
   ]
  },
  {
   "cell_type": "code",
   "execution_count": null,
   "metadata": {},
   "outputs": [],
   "source": [
    "month_cols = ['1월', '2월', '3월', '4월', '5월', '6월',\n",
    "              '7월', '8월', '9월', '10월', '11월', '12월']\n"
   ]
  },
  {
   "cell_type": "code",
   "execution_count": null,
   "metadata": {},
   "outputs": [],
   "source": [
    "# 총수출량 다시 계산 (1월 ~ 12월 합계)\n",
    "df['총수출량'] = df[month_cols].sum(axis=1)\n"
   ]
  },
  {
   "cell_type": "code",
   "execution_count": null,
   "metadata": {},
   "outputs": [],
   "source": [
    "climate_mapping = {\n",
    "    '동유럽': '한랭',           # 폴란드, 루마니아 등 겨울 추운 지역 포함\n",
    "    '북미-멕시코': '건조',       # 대부분 지역이 건조하거나 아열대\n",
    "    '북미-미국': '온대',        # 다양한 기후 있으나 평균적으로 온대\n",
    "    '북미-캐나다': '한랭',       # 대다수 지역이 냉대/한대\n",
    "    '서유럽': '온대',           # 프랑스, 독일 등 온대기후\n",
    "    '아시아': '온대',           # 중국, 한국, 일본 등 온대 중심 (아열대도 포함되지만 평균적으로 온대 처리)\n",
    "    '중남미': '열대',           # 브라질, 페루 등 다수 지역이 열대\n",
    "    '중동·아프리카': '건조',    # 사막 및 건조지역 다수 포함\n",
    "}\n",
    "\n",
    "\n",
    "df['기후대'] = df['국가명'].map(climate_mapping)\n"
   ]
  },
  {
   "cell_type": "code",
   "execution_count": null,
   "metadata": {},
   "outputs": [
    {
     "data": {
      "text/plain": [
       "0      한랭\n",
       "1      한랭\n",
       "2      한랭\n",
       "3      한랭\n",
       "4      한랭\n",
       "       ..\n",
       "404    건조\n",
       "405    건조\n",
       "406    건조\n",
       "407    건조\n",
       "408    건조\n",
       "Name: 기후대, Length: 409, dtype: object\n"
      ]
     },
     "metadata": {},
     "output_type": "display_data"
    }
   ],
   "source": [
    "df['기후대']"
   ]
  }
 ],
 "metadata": {
  "language_info": {
   "name": "python"
  }
 },
 "nbformat": 4,
 "nbformat_minor": 2
}
